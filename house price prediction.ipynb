{
 "cells": [
  {
   "attachments": {},
   "cell_type": "markdown",
   "id": "5790b8b2-be1e-4fe7-9eea-0c07c8e9ee9b",
   "metadata": {},
   "source": [
    "# About this project - House prices prediction"
   ]
  },
  {
   "attachments": {},
   "cell_type": "markdown",
   "id": "e6010e87-07f6-450c-97a7-0582087f8408",
   "metadata": {},
   "source": [
    "This is a regression analysis project. The goal is to predict a house price based on a number of inputs such as total area, number of rooms, location and others.\n",
    "This project is intended for educational purposes only.\n",
    "The dataset is download from Kaggle for the city in India - Bengaluru.\n",
    "\n",
    "The data was downloaded from kaggle: https://www.kaggle.com/datasets/amitabhajoy/bengaluru-house-price-data"
   ]
  },
  {
   "attachments": {},
   "cell_type": "markdown",
   "id": "89d91529-c8b0-4f0c-b704-45b34071b867",
   "metadata": {},
   "source": [
    "# Data preparation"
   ]
  },
  {
   "attachments": {},
   "cell_type": "markdown",
   "id": "59ab35a3-0b78-4af5-bf41-462cd6c31cf8",
   "metadata": {},
   "source": [
    "## Import modules"
   ]
  },
  {
   "cell_type": "code",
   "execution_count": 1,
   "id": "408a5cac-a850-435f-ace2-742d8a6cbf10",
   "metadata": {},
   "outputs": [],
   "source": [
    "import pandas as pd\n",
    "import numpy as np\n",
    "import matplotlib.pyplot as plt"
   ]
  },
  {
   "attachments": {},
   "cell_type": "markdown",
   "id": "85e50784-7cba-448e-90b1-25f3455e232f",
   "metadata": {},
   "source": [
    "## Import data"
   ]
  },
  {
   "cell_type": "code",
   "execution_count": 2,
   "id": "7e38c237-1279-4422-a24a-219dd0cb009c",
   "metadata": {},
   "outputs": [
    {
     "data": {
      "text/html": [
       "<div>\n",
       "<style scoped>\n",
       "    .dataframe tbody tr th:only-of-type {\n",
       "        vertical-align: middle;\n",
       "    }\n",
       "\n",
       "    .dataframe tbody tr th {\n",
       "        vertical-align: top;\n",
       "    }\n",
       "\n",
       "    .dataframe thead th {\n",
       "        text-align: right;\n",
       "    }\n",
       "</style>\n",
       "<table border=\"1\" class=\"dataframe\">\n",
       "  <thead>\n",
       "    <tr style=\"text-align: right;\">\n",
       "      <th></th>\n",
       "      <th>area_type</th>\n",
       "      <th>availability</th>\n",
       "      <th>location</th>\n",
       "      <th>size</th>\n",
       "      <th>society</th>\n",
       "      <th>total_sqft</th>\n",
       "      <th>bath</th>\n",
       "      <th>balcony</th>\n",
       "      <th>price</th>\n",
       "    </tr>\n",
       "  </thead>\n",
       "  <tbody>\n",
       "    <tr>\n",
       "      <th>0</th>\n",
       "      <td>Super built-up  Area</td>\n",
       "      <td>19-Dec</td>\n",
       "      <td>Electronic City Phase II</td>\n",
       "      <td>2 BHK</td>\n",
       "      <td>Coomee</td>\n",
       "      <td>1056</td>\n",
       "      <td>2.0</td>\n",
       "      <td>1.0</td>\n",
       "      <td>39.07</td>\n",
       "    </tr>\n",
       "    <tr>\n",
       "      <th>1</th>\n",
       "      <td>Plot  Area</td>\n",
       "      <td>Ready To Move</td>\n",
       "      <td>Chikka Tirupathi</td>\n",
       "      <td>4 Bedroom</td>\n",
       "      <td>Theanmp</td>\n",
       "      <td>2600</td>\n",
       "      <td>5.0</td>\n",
       "      <td>3.0</td>\n",
       "      <td>120.00</td>\n",
       "    </tr>\n",
       "    <tr>\n",
       "      <th>2</th>\n",
       "      <td>Built-up  Area</td>\n",
       "      <td>Ready To Move</td>\n",
       "      <td>Uttarahalli</td>\n",
       "      <td>3 BHK</td>\n",
       "      <td>NaN</td>\n",
       "      <td>1440</td>\n",
       "      <td>2.0</td>\n",
       "      <td>3.0</td>\n",
       "      <td>62.00</td>\n",
       "    </tr>\n",
       "    <tr>\n",
       "      <th>3</th>\n",
       "      <td>Super built-up  Area</td>\n",
       "      <td>Ready To Move</td>\n",
       "      <td>Lingadheeranahalli</td>\n",
       "      <td>3 BHK</td>\n",
       "      <td>Soiewre</td>\n",
       "      <td>1521</td>\n",
       "      <td>3.0</td>\n",
       "      <td>1.0</td>\n",
       "      <td>95.00</td>\n",
       "    </tr>\n",
       "    <tr>\n",
       "      <th>4</th>\n",
       "      <td>Super built-up  Area</td>\n",
       "      <td>Ready To Move</td>\n",
       "      <td>Kothanur</td>\n",
       "      <td>2 BHK</td>\n",
       "      <td>NaN</td>\n",
       "      <td>1200</td>\n",
       "      <td>2.0</td>\n",
       "      <td>1.0</td>\n",
       "      <td>51.00</td>\n",
       "    </tr>\n",
       "    <tr>\n",
       "      <th>...</th>\n",
       "      <td>...</td>\n",
       "      <td>...</td>\n",
       "      <td>...</td>\n",
       "      <td>...</td>\n",
       "      <td>...</td>\n",
       "      <td>...</td>\n",
       "      <td>...</td>\n",
       "      <td>...</td>\n",
       "      <td>...</td>\n",
       "    </tr>\n",
       "    <tr>\n",
       "      <th>13315</th>\n",
       "      <td>Built-up  Area</td>\n",
       "      <td>Ready To Move</td>\n",
       "      <td>Whitefield</td>\n",
       "      <td>5 Bedroom</td>\n",
       "      <td>ArsiaEx</td>\n",
       "      <td>3453</td>\n",
       "      <td>4.0</td>\n",
       "      <td>0.0</td>\n",
       "      <td>231.00</td>\n",
       "    </tr>\n",
       "    <tr>\n",
       "      <th>13316</th>\n",
       "      <td>Super built-up  Area</td>\n",
       "      <td>Ready To Move</td>\n",
       "      <td>Richards Town</td>\n",
       "      <td>4 BHK</td>\n",
       "      <td>NaN</td>\n",
       "      <td>3600</td>\n",
       "      <td>5.0</td>\n",
       "      <td>NaN</td>\n",
       "      <td>400.00</td>\n",
       "    </tr>\n",
       "    <tr>\n",
       "      <th>13317</th>\n",
       "      <td>Built-up  Area</td>\n",
       "      <td>Ready To Move</td>\n",
       "      <td>Raja Rajeshwari Nagar</td>\n",
       "      <td>2 BHK</td>\n",
       "      <td>Mahla T</td>\n",
       "      <td>1141</td>\n",
       "      <td>2.0</td>\n",
       "      <td>1.0</td>\n",
       "      <td>60.00</td>\n",
       "    </tr>\n",
       "    <tr>\n",
       "      <th>13318</th>\n",
       "      <td>Super built-up  Area</td>\n",
       "      <td>18-Jun</td>\n",
       "      <td>Padmanabhanagar</td>\n",
       "      <td>4 BHK</td>\n",
       "      <td>SollyCl</td>\n",
       "      <td>4689</td>\n",
       "      <td>4.0</td>\n",
       "      <td>1.0</td>\n",
       "      <td>488.00</td>\n",
       "    </tr>\n",
       "    <tr>\n",
       "      <th>13319</th>\n",
       "      <td>Super built-up  Area</td>\n",
       "      <td>Ready To Move</td>\n",
       "      <td>Doddathoguru</td>\n",
       "      <td>1 BHK</td>\n",
       "      <td>NaN</td>\n",
       "      <td>550</td>\n",
       "      <td>1.0</td>\n",
       "      <td>1.0</td>\n",
       "      <td>17.00</td>\n",
       "    </tr>\n",
       "  </tbody>\n",
       "</table>\n",
       "<p>13320 rows × 9 columns</p>\n",
       "</div>"
      ],
      "text/plain": [
       "                  area_type   availability                  location  \\\n",
       "0      Super built-up  Area         19-Dec  Electronic City Phase II   \n",
       "1                Plot  Area  Ready To Move          Chikka Tirupathi   \n",
       "2            Built-up  Area  Ready To Move               Uttarahalli   \n",
       "3      Super built-up  Area  Ready To Move        Lingadheeranahalli   \n",
       "4      Super built-up  Area  Ready To Move                  Kothanur   \n",
       "...                     ...            ...                       ...   \n",
       "13315        Built-up  Area  Ready To Move                Whitefield   \n",
       "13316  Super built-up  Area  Ready To Move             Richards Town   \n",
       "13317        Built-up  Area  Ready To Move     Raja Rajeshwari Nagar   \n",
       "13318  Super built-up  Area         18-Jun           Padmanabhanagar   \n",
       "13319  Super built-up  Area  Ready To Move              Doddathoguru   \n",
       "\n",
       "            size  society total_sqft  bath  balcony   price  \n",
       "0          2 BHK  Coomee        1056   2.0      1.0   39.07  \n",
       "1      4 Bedroom  Theanmp       2600   5.0      3.0  120.00  \n",
       "2          3 BHK      NaN       1440   2.0      3.0   62.00  \n",
       "3          3 BHK  Soiewre       1521   3.0      1.0   95.00  \n",
       "4          2 BHK      NaN       1200   2.0      1.0   51.00  \n",
       "...          ...      ...        ...   ...      ...     ...  \n",
       "13315  5 Bedroom  ArsiaEx       3453   4.0      0.0  231.00  \n",
       "13316      4 BHK      NaN       3600   5.0      NaN  400.00  \n",
       "13317      2 BHK  Mahla T       1141   2.0      1.0   60.00  \n",
       "13318      4 BHK  SollyCl       4689   4.0      1.0  488.00  \n",
       "13319      1 BHK      NaN        550   1.0      1.0   17.00  \n",
       "\n",
       "[13320 rows x 9 columns]"
      ]
     },
     "execution_count": 2,
     "metadata": {},
     "output_type": "execute_result"
    }
   ],
   "source": [
    "raw_house_data = pd.read_csv('Bengaluru_House_Data.csv')\n",
    "raw_house_data"
   ]
  },
  {
   "attachments": {},
   "cell_type": "markdown",
   "id": "39829e62-709e-43a0-8991-afc570b00707",
   "metadata": {},
   "source": [
    "## Unique values"
   ]
  },
  {
   "attachments": {},
   "cell_type": "markdown",
   "id": "cd3fd383-0ef0-4886-84b1-2947b92be454",
   "metadata": {
    "tags": []
   },
   "source": [
    "I am interested in exploring unique values for nominal data since they might be important."
   ]
  },
  {
   "cell_type": "code",
   "execution_count": 3,
   "id": "d197a636-2f63-4905-9f37-7263f3bfe928",
   "metadata": {},
   "outputs": [
    {
     "name": "stdout",
     "output_type": "stream",
     "text": [
      "13320\n",
      "4\n",
      "1305\n",
      "31\n",
      "2688\n"
     ]
    }
   ],
   "source": [
    "print(len(raw_house_data))\n",
    "print(raw_house_data['area_type'].nunique())\n",
    "print(raw_house_data['location'].nunique())\n",
    "print(raw_house_data['size'].nunique())\n",
    "print(raw_house_data['society'].nunique())"
   ]
  },
  {
   "attachments": {},
   "cell_type": "markdown",
   "id": "e7563c82-0013-4493-b180-4d1ac42a891d",
   "metadata": {},
   "source": [
    "I thought that from the \"size\" column I could get number for rooms, however, it is not possible since \"BHK\" and \"Bedroom\" are different ways to count rooms in a house. Meanwhile, total area in a house already implicitly includes information about number of rooms. However, I will create a column for number of rooms."
   ]
  },
  {
   "cell_type": "code",
   "execution_count": 4,
   "id": "b23c2d64-55fd-47cc-b438-660b0b53e762",
   "metadata": {},
   "outputs": [
    {
     "name": "stdout",
     "output_type": "stream",
     "text": [
      "['Super built-up  Area' 'Plot  Area' 'Built-up  Area' 'Carpet  Area']\n",
      "['2 BHK' '4 Bedroom' '3 BHK' '4 BHK' '6 Bedroom' '3 Bedroom' '1 BHK'\n",
      " '1 RK' '1 Bedroom' '8 Bedroom' '2 Bedroom' '7 Bedroom' '5 BHK' '7 BHK'\n",
      " '6 BHK' '5 Bedroom' '11 BHK' '9 BHK' nan '9 Bedroom' '27 BHK'\n",
      " '10 Bedroom' '11 Bedroom' '10 BHK' '19 BHK' '16 BHK' '43 Bedroom'\n",
      " '14 BHK' '8 BHK' '12 Bedroom' '13 BHK' '18 Bedroom']\n"
     ]
    }
   ],
   "source": [
    "print(raw_house_data['area_type'].unique())\n",
    "print(raw_house_data['size'].unique())"
   ]
  },
  {
   "cell_type": "code",
   "execution_count": 5,
   "id": "ce866538-1a4c-4d47-b570-71cd3c91bc5f",
   "metadata": {},
   "outputs": [
    {
     "data": {
      "text/plain": [
       "str"
      ]
     },
     "execution_count": 5,
     "metadata": {},
     "output_type": "execute_result"
    }
   ],
   "source": [
    "type(raw_house_data['size'][0])"
   ]
  },
  {
   "cell_type": "code",
   "execution_count": 6,
   "id": "60fb703f-21dd-4b74-828e-d3b6db7d56ab",
   "metadata": {},
   "outputs": [
    {
     "data": {
      "text/plain": [
       "float"
      ]
     },
     "execution_count": 6,
     "metadata": {},
     "output_type": "execute_result"
    }
   ],
   "source": [
    "type(raw_house_data['size'][579])"
   ]
  },
  {
   "cell_type": "code",
   "execution_count": 7,
   "id": "bd769418-71c0-4f3c-9a6d-f1c20e79406d",
   "metadata": {
    "tags": []
   },
   "outputs": [
    {
     "data": {
      "text/html": [
       "<div>\n",
       "<style scoped>\n",
       "    .dataframe tbody tr th:only-of-type {\n",
       "        vertical-align: middle;\n",
       "    }\n",
       "\n",
       "    .dataframe tbody tr th {\n",
       "        vertical-align: top;\n",
       "    }\n",
       "\n",
       "    .dataframe thead th {\n",
       "        text-align: right;\n",
       "    }\n",
       "</style>\n",
       "<table border=\"1\" class=\"dataframe\">\n",
       "  <thead>\n",
       "    <tr style=\"text-align: right;\">\n",
       "      <th></th>\n",
       "      <th>area_type</th>\n",
       "      <th>availability</th>\n",
       "      <th>location</th>\n",
       "      <th>size</th>\n",
       "      <th>society</th>\n",
       "      <th>total_sqft</th>\n",
       "      <th>bath</th>\n",
       "      <th>balcony</th>\n",
       "      <th>price</th>\n",
       "      <th>bedrooms</th>\n",
       "    </tr>\n",
       "  </thead>\n",
       "  <tbody>\n",
       "    <tr>\n",
       "      <th>0</th>\n",
       "      <td>Super built-up  Area</td>\n",
       "      <td>19-Dec</td>\n",
       "      <td>Electronic City Phase II</td>\n",
       "      <td>2 BHK</td>\n",
       "      <td>Coomee</td>\n",
       "      <td>1056</td>\n",
       "      <td>2.0</td>\n",
       "      <td>1.0</td>\n",
       "      <td>39.07</td>\n",
       "      <td>2</td>\n",
       "    </tr>\n",
       "    <tr>\n",
       "      <th>1</th>\n",
       "      <td>Plot  Area</td>\n",
       "      <td>Ready To Move</td>\n",
       "      <td>Chikka Tirupathi</td>\n",
       "      <td>4 Bedroom</td>\n",
       "      <td>Theanmp</td>\n",
       "      <td>2600</td>\n",
       "      <td>5.0</td>\n",
       "      <td>3.0</td>\n",
       "      <td>120.00</td>\n",
       "      <td>4</td>\n",
       "    </tr>\n",
       "    <tr>\n",
       "      <th>2</th>\n",
       "      <td>Built-up  Area</td>\n",
       "      <td>Ready To Move</td>\n",
       "      <td>Uttarahalli</td>\n",
       "      <td>3 BHK</td>\n",
       "      <td>NaN</td>\n",
       "      <td>1440</td>\n",
       "      <td>2.0</td>\n",
       "      <td>3.0</td>\n",
       "      <td>62.00</td>\n",
       "      <td>3</td>\n",
       "    </tr>\n",
       "    <tr>\n",
       "      <th>3</th>\n",
       "      <td>Super built-up  Area</td>\n",
       "      <td>Ready To Move</td>\n",
       "      <td>Lingadheeranahalli</td>\n",
       "      <td>3 BHK</td>\n",
       "      <td>Soiewre</td>\n",
       "      <td>1521</td>\n",
       "      <td>3.0</td>\n",
       "      <td>1.0</td>\n",
       "      <td>95.00</td>\n",
       "      <td>3</td>\n",
       "    </tr>\n",
       "    <tr>\n",
       "      <th>4</th>\n",
       "      <td>Super built-up  Area</td>\n",
       "      <td>Ready To Move</td>\n",
       "      <td>Kothanur</td>\n",
       "      <td>2 BHK</td>\n",
       "      <td>NaN</td>\n",
       "      <td>1200</td>\n",
       "      <td>2.0</td>\n",
       "      <td>1.0</td>\n",
       "      <td>51.00</td>\n",
       "      <td>2</td>\n",
       "    </tr>\n",
       "  </tbody>\n",
       "</table>\n",
       "</div>"
      ],
      "text/plain": [
       "              area_type   availability                  location       size  \\\n",
       "0  Super built-up  Area         19-Dec  Electronic City Phase II      2 BHK   \n",
       "1            Plot  Area  Ready To Move          Chikka Tirupathi  4 Bedroom   \n",
       "2        Built-up  Area  Ready To Move               Uttarahalli      3 BHK   \n",
       "3  Super built-up  Area  Ready To Move        Lingadheeranahalli      3 BHK   \n",
       "4  Super built-up  Area  Ready To Move                  Kothanur      2 BHK   \n",
       "\n",
       "   society total_sqft  bath  balcony   price  bedrooms  \n",
       "0  Coomee        1056   2.0      1.0   39.07         2  \n",
       "1  Theanmp       2600   5.0      3.0  120.00         4  \n",
       "2      NaN       1440   2.0      3.0   62.00         3  \n",
       "3  Soiewre       1521   3.0      1.0   95.00         3  \n",
       "4      NaN       1200   2.0      1.0   51.00         2  "
      ]
     },
     "execution_count": 7,
     "metadata": {},
     "output_type": "execute_result"
    }
   ],
   "source": [
    "# loop through each 'size' to get number of rooms\n",
    "list_rooms = list(range( len(raw_house_data['size']) ))\n",
    "for i in range( len(raw_house_data['size']) ):\n",
    "    \n",
    "    if type(raw_house_data['size'][i]) == str:\n",
    "        str_split = raw_house_data['size'][i].split()\n",
    "        # assign a number to the first word\n",
    "        number_rooms = int(str_split[0])\n",
    "        list_rooms[i] = number_rooms\n",
    "\n",
    "        \n",
    "# create new column for pd frame\n",
    "raw_house_data['bedrooms'] = list_rooms\n",
    "raw_house_data.head()"
   ]
  },
  {
   "cell_type": "code",
   "execution_count": 8,
   "id": "e5fb6038-5c44-4a6d-98f8-bafd389d6902",
   "metadata": {},
   "outputs": [
    {
     "data": {
      "text/plain": [
       "73"
      ]
     },
     "execution_count": 8,
     "metadata": {},
     "output_type": "execute_result"
    }
   ],
   "source": [
    "# create column rooms but do not count balcony\n",
    "raw_house_data['rooms'] = raw_house_data['bath'] + raw_house_data['bedrooms']\n",
    "raw_house_data['rooms'].isnull().sum()"
   ]
  },
  {
   "attachments": {},
   "cell_type": "markdown",
   "id": "02d92b1e-a154-4793-9701-00376b96fa8e",
   "metadata": {},
   "source": [
    "From the cell below, there might be errors as bath and price max values are too high from the mean. Also, total_sqft column is represented as string. Changing that."
   ]
  },
  {
   "cell_type": "code",
   "execution_count": 9,
   "id": "4d4bdd8a-d126-43b9-96d0-aacc42e44917",
   "metadata": {},
   "outputs": [
    {
     "name": "stdout",
     "output_type": "stream",
     "text": [
      "<class 'str'>\n"
     ]
    },
    {
     "data": {
      "text/plain": [
       "334"
      ]
     },
     "execution_count": 9,
     "metadata": {},
     "output_type": "execute_result"
    }
   ],
   "source": [
    "# total_sqft column is represented as string\n",
    "print( type(raw_house_data['total_sqft'][0]) )\n",
    "\n",
    "list_sqft = list(range( len(raw_house_data['size']) ))\n",
    "for i in range( len(raw_house_data['total_sqft']) ):\n",
    "    \n",
    "    # some data return ValueError, for example they are written as '2080 - 4000'\n",
    "    # or as strings. For them I return None.\n",
    "    try:\n",
    "        list_sqft[i] = int(raw_house_data['total_sqft'][i])\n",
    "    except:\n",
    "        list_sqft[i] = None\n",
    "\n",
    "raw_house_data['total_sqft'] = list_sqft\n",
    "raw_house_data['total_sqft'].isnull().sum()"
   ]
  },
  {
   "cell_type": "code",
   "execution_count": 10,
   "id": "f8d55259-f38d-45df-9142-56320ba4d660",
   "metadata": {},
   "outputs": [],
   "source": [
    "# convert total_sqft to area_m2\n",
    "raw_house_data['area_m2'] = raw_house_data['total_sqft'] * 0.0929"
   ]
  },
  {
   "cell_type": "code",
   "execution_count": 11,
   "id": "d4c83651-6102-47f9-aff1-5af5e24579d6",
   "metadata": {},
   "outputs": [],
   "source": [
    "# total_price column creation\n",
    "raw_house_data['total_price'] = raw_house_data['price'] * 100000"
   ]
  },
  {
   "cell_type": "code",
   "execution_count": 12,
   "id": "5774c131-134e-4d29-a285-ea23e88542aa",
   "metadata": {
    "tags": []
   },
   "outputs": [
    {
     "data": {
      "text/html": [
       "<div>\n",
       "<style scoped>\n",
       "    .dataframe tbody tr th:only-of-type {\n",
       "        vertical-align: middle;\n",
       "    }\n",
       "\n",
       "    .dataframe tbody tr th {\n",
       "        vertical-align: top;\n",
       "    }\n",
       "\n",
       "    .dataframe thead th {\n",
       "        text-align: right;\n",
       "    }\n",
       "</style>\n",
       "<table border=\"1\" class=\"dataframe\">\n",
       "  <thead>\n",
       "    <tr style=\"text-align: right;\">\n",
       "      <th></th>\n",
       "      <th>total_sqft</th>\n",
       "      <th>bath</th>\n",
       "      <th>balcony</th>\n",
       "      <th>price</th>\n",
       "      <th>bedrooms</th>\n",
       "      <th>rooms</th>\n",
       "      <th>area_m2</th>\n",
       "      <th>total_price</th>\n",
       "    </tr>\n",
       "  </thead>\n",
       "  <tbody>\n",
       "    <tr>\n",
       "      <th>count</th>\n",
       "      <td>12986.000000</td>\n",
       "      <td>13247.000000</td>\n",
       "      <td>12711.000000</td>\n",
       "      <td>13320.000000</td>\n",
       "      <td>13320.000000</td>\n",
       "      <td>13247.000000</td>\n",
       "      <td>12986.000000</td>\n",
       "      <td>1.332000e+04</td>\n",
       "    </tr>\n",
       "    <tr>\n",
       "      <th>mean</th>\n",
       "      <td>1553.842292</td>\n",
       "      <td>2.692610</td>\n",
       "      <td>1.584376</td>\n",
       "      <td>112.565627</td>\n",
       "      <td>10.448724</td>\n",
       "      <td>5.494527</td>\n",
       "      <td>144.351949</td>\n",
       "      <td>1.125656e+07</td>\n",
       "    </tr>\n",
       "    <tr>\n",
       "      <th>std</th>\n",
       "      <td>1241.134525</td>\n",
       "      <td>1.341458</td>\n",
       "      <td>0.817263</td>\n",
       "      <td>148.971674</td>\n",
       "      <td>249.281358</td>\n",
       "      <td>2.569337</td>\n",
       "      <td>115.301397</td>\n",
       "      <td>1.489717e+07</td>\n",
       "    </tr>\n",
       "    <tr>\n",
       "      <th>min</th>\n",
       "      <td>1.000000</td>\n",
       "      <td>1.000000</td>\n",
       "      <td>0.000000</td>\n",
       "      <td>8.000000</td>\n",
       "      <td>1.000000</td>\n",
       "      <td>2.000000</td>\n",
       "      <td>0.092900</td>\n",
       "      <td>8.000000e+05</td>\n",
       "    </tr>\n",
       "    <tr>\n",
       "      <th>25%</th>\n",
       "      <td>1100.000000</td>\n",
       "      <td>2.000000</td>\n",
       "      <td>1.000000</td>\n",
       "      <td>50.000000</td>\n",
       "      <td>2.000000</td>\n",
       "      <td>4.000000</td>\n",
       "      <td>102.190000</td>\n",
       "      <td>5.000000e+06</td>\n",
       "    </tr>\n",
       "    <tr>\n",
       "      <th>50%</th>\n",
       "      <td>1272.000000</td>\n",
       "      <td>2.000000</td>\n",
       "      <td>2.000000</td>\n",
       "      <td>72.000000</td>\n",
       "      <td>3.000000</td>\n",
       "      <td>5.000000</td>\n",
       "      <td>118.168800</td>\n",
       "      <td>7.200000e+06</td>\n",
       "    </tr>\n",
       "    <tr>\n",
       "      <th>75%</th>\n",
       "      <td>1665.000000</td>\n",
       "      <td>3.000000</td>\n",
       "      <td>2.000000</td>\n",
       "      <td>120.000000</td>\n",
       "      <td>3.000000</td>\n",
       "      <td>6.000000</td>\n",
       "      <td>154.678500</td>\n",
       "      <td>1.200000e+07</td>\n",
       "    </tr>\n",
       "    <tr>\n",
       "      <th>max</th>\n",
       "      <td>52272.000000</td>\n",
       "      <td>40.000000</td>\n",
       "      <td>3.000000</td>\n",
       "      <td>3600.000000</td>\n",
       "      <td>11569.000000</td>\n",
       "      <td>83.000000</td>\n",
       "      <td>4856.068800</td>\n",
       "      <td>3.600000e+08</td>\n",
       "    </tr>\n",
       "  </tbody>\n",
       "</table>\n",
       "</div>"
      ],
      "text/plain": [
       "         total_sqft          bath       balcony         price      bedrooms  \\\n",
       "count  12986.000000  13247.000000  12711.000000  13320.000000  13320.000000   \n",
       "mean    1553.842292      2.692610      1.584376    112.565627     10.448724   \n",
       "std     1241.134525      1.341458      0.817263    148.971674    249.281358   \n",
       "min        1.000000      1.000000      0.000000      8.000000      1.000000   \n",
       "25%     1100.000000      2.000000      1.000000     50.000000      2.000000   \n",
       "50%     1272.000000      2.000000      2.000000     72.000000      3.000000   \n",
       "75%     1665.000000      3.000000      2.000000    120.000000      3.000000   \n",
       "max    52272.000000     40.000000      3.000000   3600.000000  11569.000000   \n",
       "\n",
       "              rooms       area_m2   total_price  \n",
       "count  13247.000000  12986.000000  1.332000e+04  \n",
       "mean       5.494527    144.351949  1.125656e+07  \n",
       "std        2.569337    115.301397  1.489717e+07  \n",
       "min        2.000000      0.092900  8.000000e+05  \n",
       "25%        4.000000    102.190000  5.000000e+06  \n",
       "50%        5.000000    118.168800  7.200000e+06  \n",
       "75%        6.000000    154.678500  1.200000e+07  \n",
       "max       83.000000   4856.068800  3.600000e+08  "
      ]
     },
     "execution_count": 12,
     "metadata": {},
     "output_type": "execute_result"
    }
   ],
   "source": [
    "raw_house_data.describe()"
   ]
  },
  {
   "attachments": {},
   "cell_type": "markdown",
   "id": "41d19466-bbc8-41f2-8847-63b08b8105af",
   "metadata": {},
   "source": [
    "## Correlations"
   ]
  },
  {
   "attachments": {},
   "cell_type": "markdown",
   "id": "fee97fd0-d8e6-46d4-b88a-43ae2955e0fe",
   "metadata": {},
   "source": [
    "Bath and rooms show high correlation, along with bedrooms and bath. Total_sqft correlates somewhat with price, however, it does not correlated well with rooms, which is surprising to me. It seems like price is dependent not only on total_sqft but also location that is not directly repsented here in numbers. Since location might an important variable I sorted the table with the most expensive locations."
   ]
  },
  {
   "cell_type": "code",
   "execution_count": 13,
   "id": "4e2602cc-bae8-493a-a28b-03268b9f4152",
   "metadata": {},
   "outputs": [
    {
     "data": {
      "image/png": "[encoded data removed]",
      "text/plain": [
       "<Figure size 576x576 with 2 Axes>"
      ]
     },
     "metadata": {
      "needs_background": "light"
     },
     "output_type": "display_data"
    }
   ],
   "source": [
    "# visualize correlations\n",
    "import seaborn as sns\n",
    "plt.figure(figsize=(8,8))\n",
    "sns.heatmap(raw_house_data.corr(), cmap=\"YlGnBu\", annot=True)\n",
    "plt.title(\"Correlations Between Variables\", size=15)\n",
    "plt.show()"
   ]
  },
  {
   "attachments": {},
   "cell_type": "markdown",
   "id": "1c98a47c-19ea-40d3-8442-55523ac6ab1e",
   "metadata": {},
   "source": [
    "Plot below shows price depends on area of that house in full and limited ranges. Between total price and total sqft a linear line could be drawn. However, 'location' should be important consideration. Also, those scatter plots show that little data is available for very expensive house or very big houses."
   ]
  },
  {
   "cell_type": "code",
   "execution_count": 14,
   "id": "29bc2a9c-4b1c-4e4c-a606-ce8206820978",
   "metadata": {},
   "outputs": [
    {
     "data": {
      "image/png": "[encoded data removed]",
      "text/plain": [
       "<Figure size 1440x720 with 2 Axes>"
      ]
     },
     "metadata": {
      "needs_background": "light"
     },
     "output_type": "display_data"
    }
   ],
   "source": [
    "# quick plot of total_sqft vs total_price\n",
    "plt.figure(figsize=[20,10])\n",
    "\n",
    "# full range\n",
    "plt.subplot(1,2,1)\n",
    "plt.scatter(raw_house_data['total_sqft'], raw_house_data['total_price'])\n",
    "plt.xlabel('total_sqft')\n",
    "plt.ylabel('total_price')\n",
    "\n",
    "# limited range\n",
    "plt.subplot(1,2,2)\n",
    "plt.scatter(raw_house_data['total_sqft'], raw_house_data['total_price'])\n",
    "plt.xlabel('total_sqft')\n",
    "plt.ylabel('total_price')\n",
    "plt.xlim(0, 10000)\n",
    "plt.ylim(0, 1e+08);"
   ]
  },
  {
   "attachments": {},
   "cell_type": "markdown",
   "id": "4afce487-ea9d-49c4-a14a-7af708878b02",
   "metadata": {},
   "source": [
    "## Drop not relevant columns"
   ]
  },
  {
   "attachments": {},
   "cell_type": "markdown",
   "id": "94b5a7e0-9226-4aba-a46f-b83f92c78bdf",
   "metadata": {},
   "source": [
    "I will drop the following columns as there are not relevant to our analysis. Columns 'bath', 'balcony', 'size' are all counted in 'rooms'.\n",
    "For our classifiers inputs are location, total_sqft, rooms and total_price"
   ]
  },
  {
   "cell_type": "code",
   "execution_count": 15,
   "id": "2930b57d-cda8-42dd-8462-9603fc62b53f",
   "metadata": {},
   "outputs": [],
   "source": [
    "house_data = raw_house_data.drop(['area_type','availability','society','size','bath','balcony','bedrooms','price', 'total_sqft'], axis='columns')"
   ]
  },
  {
   "cell_type": "code",
   "execution_count": 16,
   "id": "71d728ac-4fcb-4d2a-a452-1d3d006b309f",
   "metadata": {},
   "outputs": [
    {
     "data": {
      "text/html": [
       "<div>\n",
       "<style scoped>\n",
       "    .dataframe tbody tr th:only-of-type {\n",
       "        vertical-align: middle;\n",
       "    }\n",
       "\n",
       "    .dataframe tbody tr th {\n",
       "        vertical-align: top;\n",
       "    }\n",
       "\n",
       "    .dataframe thead th {\n",
       "        text-align: right;\n",
       "    }\n",
       "</style>\n",
       "<table border=\"1\" class=\"dataframe\">\n",
       "  <thead>\n",
       "    <tr style=\"text-align: right;\">\n",
       "      <th></th>\n",
       "      <th>location</th>\n",
       "      <th>rooms</th>\n",
       "      <th>area_m2</th>\n",
       "      <th>total_price</th>\n",
       "    </tr>\n",
       "  </thead>\n",
       "  <tbody>\n",
       "    <tr>\n",
       "      <th>13067</th>\n",
       "      <td>Defence Colony</td>\n",
       "      <td>23.0</td>\n",
       "      <td>664.2350</td>\n",
       "      <td>360000000.0</td>\n",
       "    </tr>\n",
       "    <tr>\n",
       "      <th>11080</th>\n",
       "      <td>Ashok Nagar</td>\n",
       "      <td>9.0</td>\n",
       "      <td>773.0209</td>\n",
       "      <td>291200000.0</td>\n",
       "    </tr>\n",
       "    <tr>\n",
       "      <th>13200</th>\n",
       "      <td>Defence Colony</td>\n",
       "      <td>12.0</td>\n",
       "      <td>743.2000</td>\n",
       "      <td>280000000.0</td>\n",
       "    </tr>\n",
       "    <tr>\n",
       "      <th>11763</th>\n",
       "      <td>Sadashiva Nagar</td>\n",
       "      <td>12.0</td>\n",
       "      <td>891.8400</td>\n",
       "      <td>273600000.0</td>\n",
       "    </tr>\n",
       "    <tr>\n",
       "      <th>3180</th>\n",
       "      <td>Shanthala Nagar</td>\n",
       "      <td>10.0</td>\n",
       "      <td>773.0209</td>\n",
       "      <td>270000000.0</td>\n",
       "    </tr>\n",
       "    <tr>\n",
       "      <th>...</th>\n",
       "      <td>...</td>\n",
       "      <td>...</td>\n",
       "      <td>...</td>\n",
       "      <td>...</td>\n",
       "    </tr>\n",
       "    <tr>\n",
       "      <th>4113</th>\n",
       "      <td>BTM Layout</td>\n",
       "      <td>6.0</td>\n",
       "      <td>NaN</td>\n",
       "      <td>1000000.0</td>\n",
       "    </tr>\n",
       "    <tr>\n",
       "      <th>5410</th>\n",
       "      <td>Attibele</td>\n",
       "      <td>2.0</td>\n",
       "      <td>37.1600</td>\n",
       "      <td>1000000.0</td>\n",
       "    </tr>\n",
       "    <tr>\n",
       "      <th>8594</th>\n",
       "      <td>Chandapura</td>\n",
       "      <td>2.0</td>\n",
       "      <td>41.8050</td>\n",
       "      <td>900000.0</td>\n",
       "    </tr>\n",
       "    <tr>\n",
       "      <th>11569</th>\n",
       "      <td>Hosur Road</td>\n",
       "      <td>NaN</td>\n",
       "      <td>125.4150</td>\n",
       "      <td>844000.0</td>\n",
       "    </tr>\n",
       "    <tr>\n",
       "      <th>10526</th>\n",
       "      <td>Yelahanka New Town</td>\n",
       "      <td>2.0</td>\n",
       "      <td>26.3836</td>\n",
       "      <td>800000.0</td>\n",
       "    </tr>\n",
       "  </tbody>\n",
       "</table>\n",
       "<p>13320 rows × 4 columns</p>\n",
       "</div>"
      ],
      "text/plain": [
       "                 location  rooms   area_m2  total_price\n",
       "13067      Defence Colony   23.0  664.2350  360000000.0\n",
       "11080         Ashok Nagar    9.0  773.0209  291200000.0\n",
       "13200      Defence Colony   12.0  743.2000  280000000.0\n",
       "11763     Sadashiva Nagar   12.0  891.8400  273600000.0\n",
       "3180      Shanthala Nagar   10.0  773.0209  270000000.0\n",
       "...                   ...    ...       ...          ...\n",
       "4113           BTM Layout    6.0       NaN    1000000.0\n",
       "5410             Attibele    2.0   37.1600    1000000.0\n",
       "8594           Chandapura    2.0   41.8050     900000.0\n",
       "11569          Hosur Road    NaN  125.4150     844000.0\n",
       "10526  Yelahanka New Town    2.0   26.3836     800000.0\n",
       "\n",
       "[13320 rows x 4 columns]"
      ]
     },
     "execution_count": 16,
     "metadata": {},
     "output_type": "execute_result"
    }
   ],
   "source": [
    "house_data.sort_values('total_price', ascending=False)"
   ]
  },
  {
   "attachments": {},
   "cell_type": "markdown",
   "id": "20c62736-707f-4be7-8b25-66b9203049bb",
   "metadata": {},
   "source": [
    "## Remove missing values"
   ]
  },
  {
   "attachments": {},
   "cell_type": "markdown",
   "id": "114d830d-2c82-40df-89da-5c0b420ca064",
   "metadata": {},
   "source": [
    "Only few entries will be affected."
   ]
  },
  {
   "cell_type": "code",
   "execution_count": 17,
   "id": "a8a7507c-e53e-4c23-825c-956d651123ce",
   "metadata": {},
   "outputs": [
    {
     "name": "stdout",
     "output_type": "stream",
     "text": [
      "(13320, 4)\n"
     ]
    },
    {
     "data": {
      "text/plain": [
       "location         1\n",
       "rooms           73\n",
       "area_m2        334\n",
       "total_price      0\n",
       "dtype: int64"
      ]
     },
     "execution_count": 17,
     "metadata": {},
     "output_type": "execute_result"
    }
   ],
   "source": [
    "# detect number of missing items\n",
    "print(house_data.shape)\n",
    "house_data.isnull().sum()"
   ]
  },
  {
   "cell_type": "code",
   "execution_count": 18,
   "id": "c706bfe7-2078-4818-9ae6-6e207edf9632",
   "metadata": {},
   "outputs": [
    {
     "name": "stdout",
     "output_type": "stream",
     "text": [
      "(12969, 4)\n"
     ]
    },
    {
     "data": {
      "text/plain": [
       "location       0\n",
       "rooms          0\n",
       "area_m2        0\n",
       "total_price    0\n",
       "dtype: int64"
      ]
     },
     "execution_count": 18,
     "metadata": {},
     "output_type": "execute_result"
    }
   ],
   "source": [
    "house_data.dropna(inplace = True)\n",
    "print(house_data.shape)\n",
    "house_data.isnull().sum()"
   ]
  },
  {
   "cell_type": "code",
   "execution_count": 19,
   "id": "282a9de5-3af5-48a8-8ae0-8d7eb660a4aa",
   "metadata": {},
   "outputs": [
    {
     "data": {
      "text/html": [
       "<div>\n",
       "<style scoped>\n",
       "    .dataframe tbody tr th:only-of-type {\n",
       "        vertical-align: middle;\n",
       "    }\n",
       "\n",
       "    .dataframe tbody tr th {\n",
       "        vertical-align: top;\n",
       "    }\n",
       "\n",
       "    .dataframe thead th {\n",
       "        text-align: right;\n",
       "    }\n",
       "</style>\n",
       "<table border=\"1\" class=\"dataframe\">\n",
       "  <thead>\n",
       "    <tr style=\"text-align: right;\">\n",
       "      <th></th>\n",
       "      <th>location</th>\n",
       "      <th>rooms</th>\n",
       "      <th>area_m2</th>\n",
       "      <th>total_price</th>\n",
       "    </tr>\n",
       "  </thead>\n",
       "  <tbody>\n",
       "    <tr>\n",
       "      <th>0</th>\n",
       "      <td>Electronic City Phase II</td>\n",
       "      <td>4.0</td>\n",
       "      <td>98.1024</td>\n",
       "      <td>3907000.0</td>\n",
       "    </tr>\n",
       "    <tr>\n",
       "      <th>1</th>\n",
       "      <td>Chikka Tirupathi</td>\n",
       "      <td>9.0</td>\n",
       "      <td>241.5400</td>\n",
       "      <td>12000000.0</td>\n",
       "    </tr>\n",
       "    <tr>\n",
       "      <th>2</th>\n",
       "      <td>Uttarahalli</td>\n",
       "      <td>5.0</td>\n",
       "      <td>133.7760</td>\n",
       "      <td>6200000.0</td>\n",
       "    </tr>\n",
       "    <tr>\n",
       "      <th>3</th>\n",
       "      <td>Lingadheeranahalli</td>\n",
       "      <td>6.0</td>\n",
       "      <td>141.3009</td>\n",
       "      <td>9500000.0</td>\n",
       "    </tr>\n",
       "    <tr>\n",
       "      <th>4</th>\n",
       "      <td>Kothanur</td>\n",
       "      <td>4.0</td>\n",
       "      <td>111.4800</td>\n",
       "      <td>5100000.0</td>\n",
       "    </tr>\n",
       "    <tr>\n",
       "      <th>5</th>\n",
       "      <td>Whitefield</td>\n",
       "      <td>4.0</td>\n",
       "      <td>108.6930</td>\n",
       "      <td>3800000.0</td>\n",
       "    </tr>\n",
       "    <tr>\n",
       "      <th>6</th>\n",
       "      <td>Old Airport Road</td>\n",
       "      <td>8.0</td>\n",
       "      <td>253.8028</td>\n",
       "      <td>20400000.0</td>\n",
       "    </tr>\n",
       "    <tr>\n",
       "      <th>7</th>\n",
       "      <td>Rajaji Nagar</td>\n",
       "      <td>8.0</td>\n",
       "      <td>306.5700</td>\n",
       "      <td>60000000.0</td>\n",
       "    </tr>\n",
       "    <tr>\n",
       "      <th>8</th>\n",
       "      <td>Marathahalli</td>\n",
       "      <td>6.0</td>\n",
       "      <td>121.6990</td>\n",
       "      <td>6325000.0</td>\n",
       "    </tr>\n",
       "    <tr>\n",
       "      <th>9</th>\n",
       "      <td>Gandhi Bazar</td>\n",
       "      <td>12.0</td>\n",
       "      <td>94.7580</td>\n",
       "      <td>37000000.0</td>\n",
       "    </tr>\n",
       "  </tbody>\n",
       "</table>\n",
       "</div>"
      ],
      "text/plain": [
       "                   location  rooms   area_m2  total_price\n",
       "0  Electronic City Phase II    4.0   98.1024    3907000.0\n",
       "1          Chikka Tirupathi    9.0  241.5400   12000000.0\n",
       "2               Uttarahalli    5.0  133.7760    6200000.0\n",
       "3        Lingadheeranahalli    6.0  141.3009    9500000.0\n",
       "4                  Kothanur    4.0  111.4800    5100000.0\n",
       "5                Whitefield    4.0  108.6930    3800000.0\n",
       "6          Old Airport Road    8.0  253.8028   20400000.0\n",
       "7              Rajaji Nagar    8.0  306.5700   60000000.0\n",
       "8              Marathahalli    6.0  121.6990    6325000.0\n",
       "9              Gandhi Bazar   12.0   94.7580   37000000.0"
      ]
     },
     "execution_count": 19,
     "metadata": {},
     "output_type": "execute_result"
    }
   ],
   "source": [
    "house_data.head(10)"
   ]
  },
  {
   "attachments": {},
   "cell_type": "markdown",
   "id": "29befa8b-735f-4399-9bbd-9dcb61fbfa2e",
   "metadata": {},
   "source": [
    "## Explore locations"
   ]
  },
  {
   "cell_type": "code",
   "execution_count": 20,
   "id": "eec18f51-9e82-4596-9163-b4ca38918f59",
   "metadata": {},
   "outputs": [
    {
     "data": {
      "text/plain": [
       "1295"
      ]
     },
     "execution_count": 20,
     "metadata": {},
     "output_type": "execute_result"
    }
   ],
   "source": [
    "# number of locations\n",
    "len(house_data['location'].unique())"
   ]
  },
  {
   "cell_type": "code",
   "execution_count": 21,
   "id": "0fc1b1ed-a8f2-4558-9380-d6f939e0a6ef",
   "metadata": {},
   "outputs": [
    {
     "data": {
      "text/plain": [
       "location\n",
       "Whitefield              517\n",
       "Sarjapur  Road          385\n",
       "Electronic City         302\n",
       "Kanakpura Road          255\n",
       "Thanisandra             221\n",
       "                       ... \n",
       "Kalhalli                  1\n",
       "Kalkere Channasandra      1\n",
       " Banaswadi                1\n",
       "Kanakadasa Layout         1\n",
       "whitefiled                1\n",
       "Name: location, Length: 1295, dtype: int64"
      ]
     },
     "execution_count": 21,
     "metadata": {},
     "output_type": "execute_result"
    }
   ],
   "source": [
    "location_stats = house_data.groupby('location')['location'].agg('count').sort_values(ascending=False)\n",
    "location_stats"
   ]
  },
  {
   "attachments": {},
   "cell_type": "markdown",
   "id": "dd497845-0f15-443d-9f1a-d29dc1b47f12",
   "metadata": {},
   "source": [
    "Visualize Whitefield location"
   ]
  },
  {
   "cell_type": "code",
   "execution_count": 22,
   "id": "d55efedd-8ce6-4beb-b9d8-0340a97dc59b",
   "metadata": {},
   "outputs": [
    {
     "data": {
      "text/plain": [
       "Text(0, 0.5, 'price')"
      ]
     },
     "execution_count": 22,
     "metadata": {},
     "output_type": "execute_result"
    },
    {
     "data": {
      "image/png": "[encoded data removed]",
      "text/plain": [
       "<Figure size 1440x360 with 2 Axes>"
      ]
     },
     "metadata": {
      "needs_background": "light"
     },
     "output_type": "display_data"
    }
   ],
   "source": [
    "# visualize Whitefield location\n",
    "house_data_Whitefield = house_data[ house_data['location'] == 'Whitefield' ]\n",
    "\n",
    "plt.figure(figsize =(20,5))\n",
    "\n",
    "plt.subplot(1,2,1)\n",
    "plt.scatter(house_data['rooms'], house_data['total_price'])\n",
    "plt.xlabel('rooms')\n",
    "plt.ylabel('price')\n",
    "\n",
    "plt.subplot(1,2,2)\n",
    "plt.scatter(house_data['area_m2'], house_data['total_price'])\n",
    "plt.xlabel('area_m2')\n",
    "plt.ylabel('price') "
   ]
  },
  {
   "attachments": {},
   "cell_type": "markdown",
   "id": "c01092ff-ab48-4f0e-b347-5811f4292933",
   "metadata": {},
   "source": [
    "Many locations have very limited amount of data. For them, they will be combined into a single column called names. Some locations are not correctly written, for example, \"Whitefield\" and \"whitefield\". It is possible to make all locations written with smaller books. But for the sake of this exercise, I will ignore this."
   ]
  },
  {
   "cell_type": "code",
   "execution_count": 23,
   "id": "4cea8838-e26d-49ca-8b22-7bfb4774d9a5",
   "metadata": {
    "tags": []
   },
   "outputs": [
    {
     "name": "stdout",
     "output_type": "stream",
     "text": [
      "253\n",
      "1057\n"
     ]
    }
   ],
   "source": [
    "print(len( location_stats[location_stats>=10] ))\n",
    "print(len( location_stats[location_stats<=10] ))"
   ]
  },
  {
   "cell_type": "code",
   "execution_count": 24,
   "id": "32785306-91c9-4e64-9f8e-052f181e27a0",
   "metadata": {},
   "outputs": [
    {
     "data": {
      "text/plain": [
       "location\n",
       "Sadashiva Nagar         10\n",
       "Ganga Nagar             10\n",
       "Dodsworth Layout        10\n",
       "BTM 1st Stage           10\n",
       "Nagappa Reddy Layout    10\n",
       "                        ..\n",
       "Kalhalli                 1\n",
       "Kalkere Channasandra     1\n",
       " Banaswadi               1\n",
       "Kanakadasa Layout        1\n",
       "whitefiled               1\n",
       "Name: location, Length: 1057, dtype: int64"
      ]
     },
     "execution_count": 24,
     "metadata": {},
     "output_type": "execute_result"
    }
   ],
   "source": [
    "other = location_stats[location_stats<=10]\n",
    "other"
   ]
  },
  {
   "cell_type": "code",
   "execution_count": 25,
   "id": "2c5190db-4d69-4899-b848-2f30ca4a6747",
   "metadata": {},
   "outputs": [],
   "source": [
    "names_not_populated = other.index"
   ]
  },
  {
   "cell_type": "code",
   "execution_count": 26,
   "id": "80d2316a-af8c-440a-9d58-9a93d8bf18a3",
   "metadata": {},
   "outputs": [],
   "source": [
    "# remove house data for the category \"other\" because they contain too few examples (below 10)\n",
    "\n",
    "for i in range( len(names_not_populated) ):\n",
    "    house_data['location'].replace(to_replace=names_not_populated[i], \n",
    "                                   value='other',\n",
    "                                   inplace=True)   "
   ]
  },
  {
   "cell_type": "code",
   "execution_count": 27,
   "id": "bd496d5a-2c50-4e11-8ddd-5e9192c4005f",
   "metadata": {},
   "outputs": [
    {
     "data": {
      "text/plain": [
       "239"
      ]
     },
     "execution_count": 27,
     "metadata": {},
     "output_type": "execute_result"
    }
   ],
   "source": [
    "# check whether renaming was done correctly\n",
    "house_data['location'].nunique()"
   ]
  },
  {
   "attachments": {},
   "cell_type": "markdown",
   "id": "f7937e71-b24a-4867-9e9c-415524592924",
   "metadata": {},
   "source": [
    "## Remove outliers"
   ]
  },
  {
   "attachments": {},
   "cell_type": "markdown",
   "id": "0034fa38-aea3-4eda-855f-6922ae7b11ec",
   "metadata": {},
   "source": [
    "### Remove by area/room"
   ]
  },
  {
   "cell_type": "code",
   "execution_count": 28,
   "id": "f8a0b0cc-137d-400e-b609-5a7efc90f2b1",
   "metadata": {},
   "outputs": [
    {
     "data": {
      "text/plain": [
       "(40.0, 100.0)"
      ]
     },
     "execution_count": 28,
     "metadata": {},
     "output_type": "execute_result"
    },
    {
     "data": {
      "image/png": "[encoded data removed]",
      "text/plain": [
       "<Figure size 1440x360 with 3 Axes>"
      ]
     },
     "metadata": {
      "needs_background": "light"
     },
     "output_type": "display_data"
    }
   ],
   "source": [
    "# create column 'area/rooms'\n",
    "house_data['area/rooms'] = house_data['area_m2'] / house_data['rooms']\n",
    "\n",
    "# visualize histogram for area/rooms\n",
    "plt.figure(figsize=(20,5))\n",
    "\n",
    "plt.subplot(1,3,1)\n",
    "plt.hist(house_data['area/rooms'], bins=1000)\n",
    "plt.xlim(0, 100)\n",
    "\n",
    "plt.subplot(1,3,2)\n",
    "plt.hist(house_data['area/rooms'], bins=1000)\n",
    "plt.xlim(0, 10)\n",
    "\n",
    "plt.subplot(1,3,3)\n",
    "plt.hist(house_data['area/rooms'], bins=1000)\n",
    "plt.xlim(40, 100)"
   ]
  },
  {
   "cell_type": "code",
   "execution_count": 29,
   "id": "8c9e8c49-7b65-4eb9-ab4e-d2803ccaf5b2",
   "metadata": {},
   "outputs": [
    {
     "data": {
      "text/plain": [
       "4086     0.011612\n",
       "4972     0.033179\n",
       "349      0.170317\n",
       "1122     0.318514\n",
       "11558    0.696750\n",
       "1020     0.696750\n",
       "5970     2.090250\n",
       "4684     2.686265\n",
       "770      3.096667\n",
       "11559    3.096667\n",
       "6813     3.096667\n",
       "45       3.278824\n",
       "1735     3.483750\n",
       "5071     3.483750\n",
       "992      3.657938\n",
       "1567     3.716000\n",
       "1887     3.981429\n",
       "6052     3.981429\n",
       "2752     3.981429\n",
       "3039     3.981429\n",
       "Name: area/rooms, dtype: float64"
      ]
     },
     "execution_count": 29,
     "metadata": {},
     "output_type": "execute_result"
    }
   ],
   "source": [
    "house_data['area/rooms'].sort_values().head(20)"
   ]
  },
  {
   "cell_type": "code",
   "execution_count": 30,
   "id": "8b014064-b388-4ff5-9ea1-033239c10554",
   "metadata": {},
   "outputs": [
    {
     "data": {
      "text/plain": [
       "7242     1214.017200\n",
       "1894      971.213760\n",
       "674       541.916667\n",
       "10075     465.893500\n",
       "5469      418.050000\n",
       "2623      348.375000\n",
       "7947      309.666667\n",
       "12987     282.416000\n",
       "7824      278.700000\n",
       "5393      229.517647\n",
       "11856     205.309000\n",
       "12470     189.690187\n",
       "1234      185.800000\n",
       "6549      177.439000\n",
       "12570     162.575000\n",
       "440       138.072625\n",
       "4258      130.060000\n",
       "8165      127.737500\n",
       "810       127.284612\n",
       "9240      127.284612\n",
       "10304     123.371200\n",
       "8546      120.770000\n",
       "4799      119.442857\n",
       "12574     118.865550\n",
       "7855      118.447500\n",
       "4308      116.125000\n",
       "7315      113.544444\n",
       "3539      111.480000\n",
       "5137      111.480000\n",
       "13197     106.835000\n",
       "10749     103.222222\n",
       "514        98.706250\n",
       "1562       94.138667\n",
       "9546       92.900000\n",
       "9845       92.900000\n",
       "11950      89.303443\n",
       "2108       89.184000\n",
       "7026       88.564667\n",
       "8878       87.326000\n",
       "5343       87.093750\n",
       "4243       87.093750\n",
       "8682       86.706667\n",
       "11080      85.891211\n",
       "408        85.753846\n",
       "9078       83.888700\n",
       "9235       83.610000\n",
       "8187       83.610000\n",
       "13245      83.610000\n",
       "1370       81.752000\n",
       "6337       81.287500\n",
       "Name: area/rooms, dtype: float64"
      ]
     },
     "execution_count": 30,
     "metadata": {},
     "output_type": "execute_result"
    }
   ],
   "source": [
    "house_data['area/rooms'].sort_values(ascending=False).head(50)"
   ]
  },
  {
   "attachments": {},
   "cell_type": "markdown",
   "id": "82e88d7f-8235-4fa4-8f69-500d190210c3",
   "metadata": {},
   "source": [
    "Obviously, there are rooms that take too little space, for example below 1 $m^{2}$. There are items that are very large, and there are more of them than \"too small\". We have long tail distribution here. I will remove houses below 2 and above 100."
   ]
  },
  {
   "cell_type": "code",
   "execution_count": 31,
   "id": "4a3cfdb6-b856-464f-8991-8d228ef469e2",
   "metadata": {
    "tags": []
   },
   "outputs": [
    {
     "data": {
      "text/html": [
       "<div>\n",
       "<style scoped>\n",
       "    .dataframe tbody tr th:only-of-type {\n",
       "        vertical-align: middle;\n",
       "    }\n",
       "\n",
       "    .dataframe tbody tr th {\n",
       "        vertical-align: top;\n",
       "    }\n",
       "\n",
       "    .dataframe thead th {\n",
       "        text-align: right;\n",
       "    }\n",
       "</style>\n",
       "<table border=\"1\" class=\"dataframe\">\n",
       "  <thead>\n",
       "    <tr style=\"text-align: right;\">\n",
       "      <th></th>\n",
       "      <th>location</th>\n",
       "      <th>rooms</th>\n",
       "      <th>area_m2</th>\n",
       "      <th>total_price</th>\n",
       "      <th>area/rooms</th>\n",
       "    </tr>\n",
       "  </thead>\n",
       "  <tbody>\n",
       "    <tr>\n",
       "      <th>5970</th>\n",
       "      <td>Mysore Road</td>\n",
       "      <td>2.0</td>\n",
       "      <td>4.1805</td>\n",
       "      <td>2300000.0</td>\n",
       "      <td>2.090250</td>\n",
       "    </tr>\n",
       "    <tr>\n",
       "      <th>4684</th>\n",
       "      <td>Munnekollal</td>\n",
       "      <td>83.0</td>\n",
       "      <td>222.9600</td>\n",
       "      <td>66000000.0</td>\n",
       "      <td>2.686265</td>\n",
       "    </tr>\n",
       "    <tr>\n",
       "      <th>11559</th>\n",
       "      <td>other</td>\n",
       "      <td>36.0</td>\n",
       "      <td>111.4800</td>\n",
       "      <td>20000000.0</td>\n",
       "      <td>3.096667</td>\n",
       "    </tr>\n",
       "    <tr>\n",
       "      <th>6813</th>\n",
       "      <td>Sector 2 HSR Layout</td>\n",
       "      <td>18.0</td>\n",
       "      <td>55.7400</td>\n",
       "      <td>9000000.0</td>\n",
       "      <td>3.096667</td>\n",
       "    </tr>\n",
       "    <tr>\n",
       "      <th>770</th>\n",
       "      <td>other</td>\n",
       "      <td>18.0</td>\n",
       "      <td>55.7400</td>\n",
       "      <td>19000000.0</td>\n",
       "      <td>3.096667</td>\n",
       "    </tr>\n",
       "    <tr>\n",
       "      <th>...</th>\n",
       "      <td>...</td>\n",
       "      <td>...</td>\n",
       "      <td>...</td>\n",
       "      <td>...</td>\n",
       "      <td>...</td>\n",
       "    </tr>\n",
       "    <tr>\n",
       "      <th>11950</th>\n",
       "      <td>other</td>\n",
       "      <td>7.0</td>\n",
       "      <td>625.1241</td>\n",
       "      <td>90000000.0</td>\n",
       "      <td>89.303443</td>\n",
       "    </tr>\n",
       "    <tr>\n",
       "      <th>9845</th>\n",
       "      <td>Akshaya Nagar</td>\n",
       "      <td>2.0</td>\n",
       "      <td>185.8000</td>\n",
       "      <td>20000000.0</td>\n",
       "      <td>92.900000</td>\n",
       "    </tr>\n",
       "    <tr>\n",
       "      <th>9546</th>\n",
       "      <td>other</td>\n",
       "      <td>10.0</td>\n",
       "      <td>929.0000</td>\n",
       "      <td>195000000.0</td>\n",
       "      <td>92.900000</td>\n",
       "    </tr>\n",
       "    <tr>\n",
       "      <th>1562</th>\n",
       "      <td>other</td>\n",
       "      <td>3.0</td>\n",
       "      <td>282.4160</td>\n",
       "      <td>18000000.0</td>\n",
       "      <td>94.138667</td>\n",
       "    </tr>\n",
       "    <tr>\n",
       "      <th>514</th>\n",
       "      <td>Banashankari Stage III</td>\n",
       "      <td>8.0</td>\n",
       "      <td>789.6500</td>\n",
       "      <td>14500000.0</td>\n",
       "      <td>98.706250</td>\n",
       "    </tr>\n",
       "  </tbody>\n",
       "</table>\n",
       "<p>12932 rows × 5 columns</p>\n",
       "</div>"
      ],
      "text/plain": [
       "                     location  rooms   area_m2  total_price  area/rooms\n",
       "5970              Mysore Road    2.0    4.1805    2300000.0    2.090250\n",
       "4684              Munnekollal   83.0  222.9600   66000000.0    2.686265\n",
       "11559                   other   36.0  111.4800   20000000.0    3.096667\n",
       "6813      Sector 2 HSR Layout   18.0   55.7400    9000000.0    3.096667\n",
       "770                     other   18.0   55.7400   19000000.0    3.096667\n",
       "...                       ...    ...       ...          ...         ...\n",
       "11950                   other    7.0  625.1241   90000000.0   89.303443\n",
       "9845            Akshaya Nagar    2.0  185.8000   20000000.0   92.900000\n",
       "9546                    other   10.0  929.0000  195000000.0   92.900000\n",
       "1562                    other    3.0  282.4160   18000000.0   94.138667\n",
       "514    Banashankari Stage III    8.0  789.6500   14500000.0   98.706250\n",
       "\n",
       "[12932 rows x 5 columns]"
      ]
     },
     "execution_count": 31,
     "metadata": {},
     "output_type": "execute_result"
    }
   ],
   "source": [
    "# keep houses bigger than 2 m2/room\n",
    "house_data = house_data[house_data['area/rooms'] >= 2]\n",
    "# keep houses smaller than 100 m2/room\n",
    "house_data = house_data[house_data['area/rooms'] <= 100]\n",
    "# visualize updated table\n",
    "house_data.sort_values(by='area/rooms')"
   ]
  },
  {
   "attachments": {},
   "cell_type": "markdown",
   "id": "fba8ae99-95d9-4109-8f37-ef06b3738b4b",
   "metadata": {},
   "source": [
    "### Remove by price/area"
   ]
  },
  {
   "cell_type": "code",
   "execution_count": 32,
   "id": "ab0bdda1-07f1-431a-b8dd-9f76da5f059e",
   "metadata": {},
   "outputs": [
    {
     "data": {
      "text/plain": [
       "(250000.0, 1000000.0)"
      ]
     },
     "execution_count": 32,
     "metadata": {},
     "output_type": "execute_result"
    },
    {
     "data": {
      "image/png": "[encoded data removed]",
      "text/plain": [
       "<Figure size 1440x360 with 3 Axes>"
      ]
     },
     "metadata": {
      "needs_background": "light"
     },
     "output_type": "display_data"
    }
   ],
   "source": [
    "# create column 'price/area'\n",
    "house_data['price/area'] = house_data['total_price'] / house_data['area_m2']\n",
    "\n",
    "# visualize histogram for area/rooms\n",
    "plt.figure(figsize=(20,5))\n",
    "\n",
    "plt.subplot(1,3,1)\n",
    "plt.hist(house_data['price/area'], bins=1000)\n",
    "plt.xlim(0, 0.5E+06)\n",
    "\n",
    "plt.subplot(1,3,2)\n",
    "plt.hist(house_data['price/area'], bins=1000)\n",
    "plt.xlim(0, 0.25E+06)\n",
    "\n",
    "plt.subplot(1,3,3)\n",
    "plt.hist(house_data['price/area'], bins=1000);\n",
    "plt.xlim(0.25E+06, 1E+06)"
   ]
  },
  {
   "cell_type": "code",
   "execution_count": 33,
   "id": "96e83355-9e2f-4f1c-b64f-007608e89346",
   "metadata": {},
   "outputs": [
    {
     "data": {
      "text/plain": [
       "11748     5382.131324\n",
       "8391     12558.306423\n",
       "2421     13455.328310\n",
       "3976     13993.541442\n",
       "5652     14678.539975\n",
       "4105     14847.258825\n",
       "9374     15069.967707\n",
       "7961     16560.404074\n",
       "4548     16996.204181\n",
       "8743     17222.820237\n",
       "8653     17660.118407\n",
       "996      17940.437747\n",
       "8922     17940.437747\n",
       "514      18362.565694\n",
       "7272     19525.871780\n",
       "132      20182.992465\n",
       "2404     20182.992465\n",
       "8541     20452.099031\n",
       "7077     20855.758881\n",
       "6794     21528.525296\n",
       "Name: price/area, dtype: float64"
      ]
     },
     "execution_count": 33,
     "metadata": {},
     "output_type": "execute_result"
    }
   ],
   "source": [
    "house_data['price/area'].sort_values().head(20)"
   ]
  },
  {
   "cell_type": "code",
   "execution_count": 34,
   "id": "baa97aaf-4378-4b51-befa-650608f97a9c",
   "metadata": {},
   "outputs": [
    {
     "data": {
      "text/plain": [
       "7657     1.899576e+06\n",
       "7088     8.280202e+05\n",
       "6421     8.237956e+05\n",
       "12443    6.433812e+05\n",
       "8398     6.027987e+05\n",
       "7883     5.721206e+05\n",
       "9535     5.606387e+05\n",
       "5970     5.501734e+05\n",
       "13067    5.419769e+05\n",
       "1567     5.382131e+05\n",
       "5042     5.219036e+05\n",
       "9195     5.166270e+05\n",
       "9737     5.125839e+05\n",
       "13305    4.736276e+05\n",
       "5365     4.664514e+05\n",
       "10570    4.186102e+05\n",
       "2286     4.036598e+05\n",
       "6194     3.989037e+05\n",
       "9        3.904684e+05\n",
       "8576     3.834769e+05\n",
       "8244     3.823003e+05\n",
       "7727     3.772058e+05\n",
       "13200    3.767492e+05\n",
       "11080    3.767039e+05\n",
       "8170     3.691164e+05\n",
       "5193     3.665251e+05\n",
       "2400     3.588088e+05\n",
       "45       3.588088e+05\n",
       "3180     3.492790e+05\n",
       "1727     3.482556e+05\n",
       "9974     3.475960e+05\n",
       "1094     3.475960e+05\n",
       "8956     3.444564e+05\n",
       "770      3.408683e+05\n",
       "9386     3.363832e+05\n",
       "11774    3.363832e+05\n",
       "12467    3.363832e+05\n",
       "12209    3.363832e+05\n",
       "3440     3.255321e+05\n",
       "2649     3.229279e+05\n",
       "2863     3.229279e+05\n",
       "12796    3.229279e+05\n",
       "12164    3.229279e+05\n",
       "1299     3.189411e+05\n",
       "4162     3.152391e+05\n",
       "3527     3.139577e+05\n",
       "2663     3.139577e+05\n",
       "10008    3.139577e+05\n",
       "3172     3.139577e+05\n",
       "13132    3.139577e+05\n",
       "Name: price/area, dtype: float64"
      ]
     },
     "execution_count": 34,
     "metadata": {},
     "output_type": "execute_result"
    }
   ],
   "source": [
    "house_data['price/area'].sort_values(ascending=False).head(50)"
   ]
  },
  {
   "attachments": {},
   "cell_type": "markdown",
   "id": "a47dae7c-5987-41e4-aefd-9d7275fdd53d",
   "metadata": {},
   "source": [
    "I will keep only houses between 10000 and 4E+05"
   ]
  },
  {
   "cell_type": "code",
   "execution_count": 35,
   "id": "f6d1834c-4138-49f5-b18b-b65d761c32f2",
   "metadata": {},
   "outputs": [
    {
     "data": {
      "text/html": [
       "<div>\n",
       "<style scoped>\n",
       "    .dataframe tbody tr th:only-of-type {\n",
       "        vertical-align: middle;\n",
       "    }\n",
       "\n",
       "    .dataframe tbody tr th {\n",
       "        vertical-align: top;\n",
       "    }\n",
       "\n",
       "    .dataframe thead th {\n",
       "        text-align: right;\n",
       "    }\n",
       "</style>\n",
       "<table border=\"1\" class=\"dataframe\">\n",
       "  <thead>\n",
       "    <tr style=\"text-align: right;\">\n",
       "      <th></th>\n",
       "      <th>location</th>\n",
       "      <th>rooms</th>\n",
       "      <th>area_m2</th>\n",
       "      <th>total_price</th>\n",
       "      <th>area/rooms</th>\n",
       "      <th>price/area</th>\n",
       "    </tr>\n",
       "  </thead>\n",
       "  <tbody>\n",
       "    <tr>\n",
       "      <th>8391</th>\n",
       "      <td>Kengeri</td>\n",
       "      <td>2.0</td>\n",
       "      <td>111.4800</td>\n",
       "      <td>1400000.0</td>\n",
       "      <td>55.740000</td>\n",
       "      <td>12558.306423</td>\n",
       "    </tr>\n",
       "    <tr>\n",
       "      <th>2421</th>\n",
       "      <td>other</td>\n",
       "      <td>7.0</td>\n",
       "      <td>185.8000</td>\n",
       "      <td>2500000.0</td>\n",
       "      <td>26.542857</td>\n",
       "      <td>13455.328310</td>\n",
       "    </tr>\n",
       "    <tr>\n",
       "      <th>3976</th>\n",
       "      <td>other</td>\n",
       "      <td>2.0</td>\n",
       "      <td>139.3500</td>\n",
       "      <td>1950000.0</td>\n",
       "      <td>69.675000</td>\n",
       "      <td>13993.541442</td>\n",
       "    </tr>\n",
       "    <tr>\n",
       "      <th>5652</th>\n",
       "      <td>JP Nagar</td>\n",
       "      <td>3.0</td>\n",
       "      <td>102.1900</td>\n",
       "      <td>1500000.0</td>\n",
       "      <td>34.063333</td>\n",
       "      <td>14678.539975</td>\n",
       "    </tr>\n",
       "    <tr>\n",
       "      <th>4105</th>\n",
       "      <td>other</td>\n",
       "      <td>10.0</td>\n",
       "      <td>538.8200</td>\n",
       "      <td>8000000.0</td>\n",
       "      <td>53.882000</td>\n",
       "      <td>14847.258825</td>\n",
       "    </tr>\n",
       "    <tr>\n",
       "      <th>...</th>\n",
       "      <td>...</td>\n",
       "      <td>...</td>\n",
       "      <td>...</td>\n",
       "      <td>...</td>\n",
       "      <td>...</td>\n",
       "      <td>...</td>\n",
       "    </tr>\n",
       "    <tr>\n",
       "      <th>7727</th>\n",
       "      <td>other</td>\n",
       "      <td>10.0</td>\n",
       "      <td>503.7038</td>\n",
       "      <td>190000000.0</td>\n",
       "      <td>50.370380</td>\n",
       "      <td>377205.810240</td>\n",
       "    </tr>\n",
       "    <tr>\n",
       "      <th>8244</th>\n",
       "      <td>other</td>\n",
       "      <td>8.0</td>\n",
       "      <td>207.1670</td>\n",
       "      <td>79200000.0</td>\n",
       "      <td>25.895875</td>\n",
       "      <td>382300.269831</td>\n",
       "    </tr>\n",
       "    <tr>\n",
       "      <th>8576</th>\n",
       "      <td>HSR Layout</td>\n",
       "      <td>16.0</td>\n",
       "      <td>74.3200</td>\n",
       "      <td>28500000.0</td>\n",
       "      <td>4.645000</td>\n",
       "      <td>383476.856835</td>\n",
       "    </tr>\n",
       "    <tr>\n",
       "      <th>9</th>\n",
       "      <td>other</td>\n",
       "      <td>12.0</td>\n",
       "      <td>94.7580</td>\n",
       "      <td>37000000.0</td>\n",
       "      <td>7.896500</td>\n",
       "      <td>390468.350957</td>\n",
       "    </tr>\n",
       "    <tr>\n",
       "      <th>6194</th>\n",
       "      <td>Basavangudi</td>\n",
       "      <td>12.0</td>\n",
       "      <td>162.9466</td>\n",
       "      <td>65000000.0</td>\n",
       "      <td>13.578883</td>\n",
       "      <td>398903.689921</td>\n",
       "    </tr>\n",
       "  </tbody>\n",
       "</table>\n",
       "<p>12914 rows × 6 columns</p>\n",
       "</div>"
      ],
      "text/plain": [
       "         location  rooms   area_m2  total_price  area/rooms     price/area\n",
       "8391      Kengeri    2.0  111.4800    1400000.0   55.740000   12558.306423\n",
       "2421        other    7.0  185.8000    2500000.0   26.542857   13455.328310\n",
       "3976        other    2.0  139.3500    1950000.0   69.675000   13993.541442\n",
       "5652     JP Nagar    3.0  102.1900    1500000.0   34.063333   14678.539975\n",
       "4105        other   10.0  538.8200    8000000.0   53.882000   14847.258825\n",
       "...           ...    ...       ...          ...         ...            ...\n",
       "7727        other   10.0  503.7038  190000000.0   50.370380  377205.810240\n",
       "8244        other    8.0  207.1670   79200000.0   25.895875  382300.269831\n",
       "8576   HSR Layout   16.0   74.3200   28500000.0    4.645000  383476.856835\n",
       "9           other   12.0   94.7580   37000000.0    7.896500  390468.350957\n",
       "6194  Basavangudi   12.0  162.9466   65000000.0   13.578883  398903.689921\n",
       "\n",
       "[12914 rows x 6 columns]"
      ]
     },
     "execution_count": 35,
     "metadata": {},
     "output_type": "execute_result"
    }
   ],
   "source": [
    "# keep houses bigger than 2 m2/room\n",
    "house_data = house_data[house_data['price/area'] >= 10000]\n",
    "# keep houses smaller than 100 m2/room\n",
    "house_data = house_data[house_data['price/area'] <= 4E+05]\n",
    "# visualize updated table\n",
    "house_data.sort_values(by='price/area')"
   ]
  },
  {
   "attachments": {},
   "cell_type": "markdown",
   "id": "5d9747db-c56e-451c-abf3-788af92c1971",
   "metadata": {},
   "source": [
    "By looking back at all previous steps. I will train an algorithm to predict price only based on location and area_m2."
   ]
  },
  {
   "attachments": {},
   "cell_type": "markdown",
   "id": "9de2ce10-bd62-4d0f-9ddc-1c590f9cc45b",
   "metadata": {},
   "source": [
    "## Final steps before training"
   ]
  },
  {
   "cell_type": "code",
   "execution_count": 36,
   "id": "e6fe95fd-259a-466b-a4d5-29102d4acb19",
   "metadata": {},
   "outputs": [
    {
     "data": {
      "text/html": [
       "<div>\n",
       "<style scoped>\n",
       "    .dataframe tbody tr th:only-of-type {\n",
       "        vertical-align: middle;\n",
       "    }\n",
       "\n",
       "    .dataframe tbody tr th {\n",
       "        vertical-align: top;\n",
       "    }\n",
       "\n",
       "    .dataframe thead th {\n",
       "        text-align: right;\n",
       "    }\n",
       "</style>\n",
       "<table border=\"1\" class=\"dataframe\">\n",
       "  <thead>\n",
       "    <tr style=\"text-align: right;\">\n",
       "      <th></th>\n",
       "      <th>location</th>\n",
       "      <th>rooms</th>\n",
       "      <th>area_m2</th>\n",
       "      <th>total_price</th>\n",
       "    </tr>\n",
       "  </thead>\n",
       "  <tbody>\n",
       "    <tr>\n",
       "      <th>0</th>\n",
       "      <td>Electronic City Phase II</td>\n",
       "      <td>4.0</td>\n",
       "      <td>98.1024</td>\n",
       "      <td>3907000.0</td>\n",
       "    </tr>\n",
       "    <tr>\n",
       "      <th>1</th>\n",
       "      <td>Chikka Tirupathi</td>\n",
       "      <td>9.0</td>\n",
       "      <td>241.5400</td>\n",
       "      <td>12000000.0</td>\n",
       "    </tr>\n",
       "    <tr>\n",
       "      <th>2</th>\n",
       "      <td>Uttarahalli</td>\n",
       "      <td>5.0</td>\n",
       "      <td>133.7760</td>\n",
       "      <td>6200000.0</td>\n",
       "    </tr>\n",
       "    <tr>\n",
       "      <th>3</th>\n",
       "      <td>Lingadheeranahalli</td>\n",
       "      <td>6.0</td>\n",
       "      <td>141.3009</td>\n",
       "      <td>9500000.0</td>\n",
       "    </tr>\n",
       "    <tr>\n",
       "      <th>4</th>\n",
       "      <td>Kothanur</td>\n",
       "      <td>4.0</td>\n",
       "      <td>111.4800</td>\n",
       "      <td>5100000.0</td>\n",
       "    </tr>\n",
       "    <tr>\n",
       "      <th>...</th>\n",
       "      <td>...</td>\n",
       "      <td>...</td>\n",
       "      <td>...</td>\n",
       "      <td>...</td>\n",
       "    </tr>\n",
       "    <tr>\n",
       "      <th>13314</th>\n",
       "      <td>Green Glen Layout</td>\n",
       "      <td>6.0</td>\n",
       "      <td>159.3235</td>\n",
       "      <td>11200000.0</td>\n",
       "    </tr>\n",
       "    <tr>\n",
       "      <th>13315</th>\n",
       "      <td>Whitefield</td>\n",
       "      <td>9.0</td>\n",
       "      <td>320.7837</td>\n",
       "      <td>23100000.0</td>\n",
       "    </tr>\n",
       "    <tr>\n",
       "      <th>13317</th>\n",
       "      <td>Raja Rajeshwari Nagar</td>\n",
       "      <td>4.0</td>\n",
       "      <td>105.9989</td>\n",
       "      <td>6000000.0</td>\n",
       "    </tr>\n",
       "    <tr>\n",
       "      <th>13318</th>\n",
       "      <td>Padmanabhanagar</td>\n",
       "      <td>8.0</td>\n",
       "      <td>435.6081</td>\n",
       "      <td>48800000.0</td>\n",
       "    </tr>\n",
       "    <tr>\n",
       "      <th>13319</th>\n",
       "      <td>Doddathoguru</td>\n",
       "      <td>2.0</td>\n",
       "      <td>51.0950</td>\n",
       "      <td>1700000.0</td>\n",
       "    </tr>\n",
       "  </tbody>\n",
       "</table>\n",
       "<p>10060 rows × 4 columns</p>\n",
       "</div>"
      ],
      "text/plain": [
       "                       location  rooms   area_m2  total_price\n",
       "0      Electronic City Phase II    4.0   98.1024    3907000.0\n",
       "1              Chikka Tirupathi    9.0  241.5400   12000000.0\n",
       "2                   Uttarahalli    5.0  133.7760    6200000.0\n",
       "3            Lingadheeranahalli    6.0  141.3009    9500000.0\n",
       "4                      Kothanur    4.0  111.4800    5100000.0\n",
       "...                         ...    ...       ...          ...\n",
       "13314         Green Glen Layout    6.0  159.3235   11200000.0\n",
       "13315                Whitefield    9.0  320.7837   23100000.0\n",
       "13317     Raja Rajeshwari Nagar    4.0  105.9989    6000000.0\n",
       "13318           Padmanabhanagar    8.0  435.6081   48800000.0\n",
       "13319              Doddathoguru    2.0   51.0950    1700000.0\n",
       "\n",
       "[10060 rows x 4 columns]"
      ]
     },
     "execution_count": 36,
     "metadata": {},
     "output_type": "execute_result"
    }
   ],
   "source": [
    "# drop unnessary columns also drop other\n",
    "house_data = house_data[house_data['location'] != 'other']\n",
    "del house_data['area/rooms'], house_data['price/area'], \n",
    "house_data"
   ]
  },
  {
   "cell_type": "code",
   "execution_count": 37,
   "id": "2a171d7e-fabb-499e-b95b-fc36b15c73db",
   "metadata": {},
   "outputs": [
    {
     "data": {
      "text/html": [
       "<div>\n",
       "<style scoped>\n",
       "    .dataframe tbody tr th:only-of-type {\n",
       "        vertical-align: middle;\n",
       "    }\n",
       "\n",
       "    .dataframe tbody tr th {\n",
       "        vertical-align: top;\n",
       "    }\n",
       "\n",
       "    .dataframe thead th {\n",
       "        text-align: right;\n",
       "    }\n",
       "</style>\n",
       "<table border=\"1\" class=\"dataframe\">\n",
       "  <thead>\n",
       "    <tr style=\"text-align: right;\">\n",
       "      <th></th>\n",
       "      <th>location</th>\n",
       "      <th>area_m2</th>\n",
       "    </tr>\n",
       "  </thead>\n",
       "  <tbody>\n",
       "    <tr>\n",
       "      <th>0</th>\n",
       "      <td>Electronic City Phase II</td>\n",
       "      <td>98.1024</td>\n",
       "    </tr>\n",
       "    <tr>\n",
       "      <th>1</th>\n",
       "      <td>Chikka Tirupathi</td>\n",
       "      <td>241.5400</td>\n",
       "    </tr>\n",
       "    <tr>\n",
       "      <th>2</th>\n",
       "      <td>Uttarahalli</td>\n",
       "      <td>133.7760</td>\n",
       "    </tr>\n",
       "    <tr>\n",
       "      <th>3</th>\n",
       "      <td>Lingadheeranahalli</td>\n",
       "      <td>141.3009</td>\n",
       "    </tr>\n",
       "    <tr>\n",
       "      <th>4</th>\n",
       "      <td>Kothanur</td>\n",
       "      <td>111.4800</td>\n",
       "    </tr>\n",
       "    <tr>\n",
       "      <th>...</th>\n",
       "      <td>...</td>\n",
       "      <td>...</td>\n",
       "    </tr>\n",
       "    <tr>\n",
       "      <th>13314</th>\n",
       "      <td>Green Glen Layout</td>\n",
       "      <td>159.3235</td>\n",
       "    </tr>\n",
       "    <tr>\n",
       "      <th>13315</th>\n",
       "      <td>Whitefield</td>\n",
       "      <td>320.7837</td>\n",
       "    </tr>\n",
       "    <tr>\n",
       "      <th>13317</th>\n",
       "      <td>Raja Rajeshwari Nagar</td>\n",
       "      <td>105.9989</td>\n",
       "    </tr>\n",
       "    <tr>\n",
       "      <th>13318</th>\n",
       "      <td>Padmanabhanagar</td>\n",
       "      <td>435.6081</td>\n",
       "    </tr>\n",
       "    <tr>\n",
       "      <th>13319</th>\n",
       "      <td>Doddathoguru</td>\n",
       "      <td>51.0950</td>\n",
       "    </tr>\n",
       "  </tbody>\n",
       "</table>\n",
       "<p>10060 rows × 2 columns</p>\n",
       "</div>"
      ],
      "text/plain": [
       "                       location   area_m2\n",
       "0      Electronic City Phase II   98.1024\n",
       "1              Chikka Tirupathi  241.5400\n",
       "2                   Uttarahalli  133.7760\n",
       "3            Lingadheeranahalli  141.3009\n",
       "4                      Kothanur  111.4800\n",
       "...                         ...       ...\n",
       "13314         Green Glen Layout  159.3235\n",
       "13315                Whitefield  320.7837\n",
       "13317     Raja Rajeshwari Nagar  105.9989\n",
       "13318           Padmanabhanagar  435.6081\n",
       "13319              Doddathoguru   51.0950\n",
       "\n",
       "[10060 rows x 2 columns]"
      ]
     },
     "execution_count": 37,
     "metadata": {},
     "output_type": "execute_result"
    }
   ],
   "source": [
    "house_data[['location', 'area_m2']]"
   ]
  },
  {
   "attachments": {},
   "cell_type": "markdown",
   "id": "0832f63a-dbc2-4fab-b773-47b6c16474cb",
   "metadata": {},
   "source": [
    "# Prepare X and y"
   ]
  },
  {
   "attachments": {},
   "cell_type": "markdown",
   "id": "18d91411-dcf9-46eb-a3c8-c36cdf79072a",
   "metadata": {},
   "source": [
    "For this regression task, I will prepare the following.\n",
    "Inputs:\n",
    "    X - location, area_m2\n",
    "Output:\n",
    "    y - price of a house\n",
    "    \n",
    "My goal is to create a model where a user writes down his location, area, and rooms, then gets estimate price with confidence intervals. If the location does not have many entries, then a user will see similar sales. "
   ]
  },
  {
   "cell_type": "code",
   "execution_count": 38,
   "id": "93d7475b-2d89-42ba-b544-25b97a071b94",
   "metadata": {},
   "outputs": [
    {
     "data": {
      "text/html": [
       "<div>\n",
       "<style scoped>\n",
       "    .dataframe tbody tr th:only-of-type {\n",
       "        vertical-align: middle;\n",
       "    }\n",
       "\n",
       "    .dataframe tbody tr th {\n",
       "        vertical-align: top;\n",
       "    }\n",
       "\n",
       "    .dataframe thead th {\n",
       "        text-align: right;\n",
       "    }\n",
       "</style>\n",
       "<table border=\"1\" class=\"dataframe\">\n",
       "  <thead>\n",
       "    <tr style=\"text-align: right;\">\n",
       "      <th></th>\n",
       "      <th>area_m2</th>\n",
       "      <th>rooms</th>\n",
       "      <th>location_ Devarachikkanahalli</th>\n",
       "      <th>location_1st Block Jayanagar</th>\n",
       "      <th>location_1st Phase JP Nagar</th>\n",
       "      <th>location_2nd Phase Judicial Layout</th>\n",
       "      <th>location_2nd Stage Nagarbhavi</th>\n",
       "      <th>location_5th Block Hbr Layout</th>\n",
       "      <th>location_5th Phase JP Nagar</th>\n",
       "      <th>location_6th Phase JP Nagar</th>\n",
       "      <th>...</th>\n",
       "      <th>location_Vijayanagar</th>\n",
       "      <th>location_Vishveshwarya Layout</th>\n",
       "      <th>location_Vishwapriya Layout</th>\n",
       "      <th>location_Vittasandra</th>\n",
       "      <th>location_Whitefield</th>\n",
       "      <th>location_Yelachenahalli</th>\n",
       "      <th>location_Yelahanka</th>\n",
       "      <th>location_Yelahanka New Town</th>\n",
       "      <th>location_Yelenahalli</th>\n",
       "      <th>location_Yeshwanthpur</th>\n",
       "    </tr>\n",
       "  </thead>\n",
       "  <tbody>\n",
       "    <tr>\n",
       "      <th>0</th>\n",
       "      <td>98.1024</td>\n",
       "      <td>4.0</td>\n",
       "      <td>0</td>\n",
       "      <td>0</td>\n",
       "      <td>0</td>\n",
       "      <td>0</td>\n",
       "      <td>0</td>\n",
       "      <td>0</td>\n",
       "      <td>0</td>\n",
       "      <td>0</td>\n",
       "      <td>...</td>\n",
       "      <td>0</td>\n",
       "      <td>0</td>\n",
       "      <td>0</td>\n",
       "      <td>0</td>\n",
       "      <td>0</td>\n",
       "      <td>0</td>\n",
       "      <td>0</td>\n",
       "      <td>0</td>\n",
       "      <td>0</td>\n",
       "      <td>0</td>\n",
       "    </tr>\n",
       "    <tr>\n",
       "      <th>1</th>\n",
       "      <td>241.5400</td>\n",
       "      <td>9.0</td>\n",
       "      <td>0</td>\n",
       "      <td>0</td>\n",
       "      <td>0</td>\n",
       "      <td>0</td>\n",
       "      <td>0</td>\n",
       "      <td>0</td>\n",
       "      <td>0</td>\n",
       "      <td>0</td>\n",
       "      <td>...</td>\n",
       "      <td>0</td>\n",
       "      <td>0</td>\n",
       "      <td>0</td>\n",
       "      <td>0</td>\n",
       "      <td>0</td>\n",
       "      <td>0</td>\n",
       "      <td>0</td>\n",
       "      <td>0</td>\n",
       "      <td>0</td>\n",
       "      <td>0</td>\n",
       "    </tr>\n",
       "    <tr>\n",
       "      <th>2</th>\n",
       "      <td>133.7760</td>\n",
       "      <td>5.0</td>\n",
       "      <td>0</td>\n",
       "      <td>0</td>\n",
       "      <td>0</td>\n",
       "      <td>0</td>\n",
       "      <td>0</td>\n",
       "      <td>0</td>\n",
       "      <td>0</td>\n",
       "      <td>0</td>\n",
       "      <td>...</td>\n",
       "      <td>0</td>\n",
       "      <td>0</td>\n",
       "      <td>0</td>\n",
       "      <td>0</td>\n",
       "      <td>0</td>\n",
       "      <td>0</td>\n",
       "      <td>0</td>\n",
       "      <td>0</td>\n",
       "      <td>0</td>\n",
       "      <td>0</td>\n",
       "    </tr>\n",
       "    <tr>\n",
       "      <th>3</th>\n",
       "      <td>141.3009</td>\n",
       "      <td>6.0</td>\n",
       "      <td>0</td>\n",
       "      <td>0</td>\n",
       "      <td>0</td>\n",
       "      <td>0</td>\n",
       "      <td>0</td>\n",
       "      <td>0</td>\n",
       "      <td>0</td>\n",
       "      <td>0</td>\n",
       "      <td>...</td>\n",
       "      <td>0</td>\n",
       "      <td>0</td>\n",
       "      <td>0</td>\n",
       "      <td>0</td>\n",
       "      <td>0</td>\n",
       "      <td>0</td>\n",
       "      <td>0</td>\n",
       "      <td>0</td>\n",
       "      <td>0</td>\n",
       "      <td>0</td>\n",
       "    </tr>\n",
       "    <tr>\n",
       "      <th>4</th>\n",
       "      <td>111.4800</td>\n",
       "      <td>4.0</td>\n",
       "      <td>0</td>\n",
       "      <td>0</td>\n",
       "      <td>0</td>\n",
       "      <td>0</td>\n",
       "      <td>0</td>\n",
       "      <td>0</td>\n",
       "      <td>0</td>\n",
       "      <td>0</td>\n",
       "      <td>...</td>\n",
       "      <td>0</td>\n",
       "      <td>0</td>\n",
       "      <td>0</td>\n",
       "      <td>0</td>\n",
       "      <td>0</td>\n",
       "      <td>0</td>\n",
       "      <td>0</td>\n",
       "      <td>0</td>\n",
       "      <td>0</td>\n",
       "      <td>0</td>\n",
       "    </tr>\n",
       "    <tr>\n",
       "      <th>...</th>\n",
       "      <td>...</td>\n",
       "      <td>...</td>\n",
       "      <td>...</td>\n",
       "      <td>...</td>\n",
       "      <td>...</td>\n",
       "      <td>...</td>\n",
       "      <td>...</td>\n",
       "      <td>...</td>\n",
       "      <td>...</td>\n",
       "      <td>...</td>\n",
       "      <td>...</td>\n",
       "      <td>...</td>\n",
       "      <td>...</td>\n",
       "      <td>...</td>\n",
       "      <td>...</td>\n",
       "      <td>...</td>\n",
       "      <td>...</td>\n",
       "      <td>...</td>\n",
       "      <td>...</td>\n",
       "      <td>...</td>\n",
       "      <td>...</td>\n",
       "    </tr>\n",
       "    <tr>\n",
       "      <th>13314</th>\n",
       "      <td>159.3235</td>\n",
       "      <td>6.0</td>\n",
       "      <td>0</td>\n",
       "      <td>0</td>\n",
       "      <td>0</td>\n",
       "      <td>0</td>\n",
       "      <td>0</td>\n",
       "      <td>0</td>\n",
       "      <td>0</td>\n",
       "      <td>0</td>\n",
       "      <td>...</td>\n",
       "      <td>0</td>\n",
       "      <td>0</td>\n",
       "      <td>0</td>\n",
       "      <td>0</td>\n",
       "      <td>0</td>\n",
       "      <td>0</td>\n",
       "      <td>0</td>\n",
       "      <td>0</td>\n",
       "      <td>0</td>\n",
       "      <td>0</td>\n",
       "    </tr>\n",
       "    <tr>\n",
       "      <th>13315</th>\n",
       "      <td>320.7837</td>\n",
       "      <td>9.0</td>\n",
       "      <td>0</td>\n",
       "      <td>0</td>\n",
       "      <td>0</td>\n",
       "      <td>0</td>\n",
       "      <td>0</td>\n",
       "      <td>0</td>\n",
       "      <td>0</td>\n",
       "      <td>0</td>\n",
       "      <td>...</td>\n",
       "      <td>0</td>\n",
       "      <td>0</td>\n",
       "      <td>0</td>\n",
       "      <td>0</td>\n",
       "      <td>1</td>\n",
       "      <td>0</td>\n",
       "      <td>0</td>\n",
       "      <td>0</td>\n",
       "      <td>0</td>\n",
       "      <td>0</td>\n",
       "    </tr>\n",
       "    <tr>\n",
       "      <th>13317</th>\n",
       "      <td>105.9989</td>\n",
       "      <td>4.0</td>\n",
       "      <td>0</td>\n",
       "      <td>0</td>\n",
       "      <td>0</td>\n",
       "      <td>0</td>\n",
       "      <td>0</td>\n",
       "      <td>0</td>\n",
       "      <td>0</td>\n",
       "      <td>0</td>\n",
       "      <td>...</td>\n",
       "      <td>0</td>\n",
       "      <td>0</td>\n",
       "      <td>0</td>\n",
       "      <td>0</td>\n",
       "      <td>0</td>\n",
       "      <td>0</td>\n",
       "      <td>0</td>\n",
       "      <td>0</td>\n",
       "      <td>0</td>\n",
       "      <td>0</td>\n",
       "    </tr>\n",
       "    <tr>\n",
       "      <th>13318</th>\n",
       "      <td>435.6081</td>\n",
       "      <td>8.0</td>\n",
       "      <td>0</td>\n",
       "      <td>0</td>\n",
       "      <td>0</td>\n",
       "      <td>0</td>\n",
       "      <td>0</td>\n",
       "      <td>0</td>\n",
       "      <td>0</td>\n",
       "      <td>0</td>\n",
       "      <td>...</td>\n",
       "      <td>0</td>\n",
       "      <td>0</td>\n",
       "      <td>0</td>\n",
       "      <td>0</td>\n",
       "      <td>0</td>\n",
       "      <td>0</td>\n",
       "      <td>0</td>\n",
       "      <td>0</td>\n",
       "      <td>0</td>\n",
       "      <td>0</td>\n",
       "    </tr>\n",
       "    <tr>\n",
       "      <th>13319</th>\n",
       "      <td>51.0950</td>\n",
       "      <td>2.0</td>\n",
       "      <td>0</td>\n",
       "      <td>0</td>\n",
       "      <td>0</td>\n",
       "      <td>0</td>\n",
       "      <td>0</td>\n",
       "      <td>0</td>\n",
       "      <td>0</td>\n",
       "      <td>0</td>\n",
       "      <td>...</td>\n",
       "      <td>0</td>\n",
       "      <td>0</td>\n",
       "      <td>0</td>\n",
       "      <td>0</td>\n",
       "      <td>0</td>\n",
       "      <td>0</td>\n",
       "      <td>0</td>\n",
       "      <td>0</td>\n",
       "      <td>0</td>\n",
       "      <td>0</td>\n",
       "    </tr>\n",
       "  </tbody>\n",
       "</table>\n",
       "<p>10060 rows × 240 columns</p>\n",
       "</div>"
      ],
      "text/plain": [
       "        area_m2  rooms  location_ Devarachikkanahalli  \\\n",
       "0       98.1024    4.0                              0   \n",
       "1      241.5400    9.0                              0   \n",
       "2      133.7760    5.0                              0   \n",
       "3      141.3009    6.0                              0   \n",
       "4      111.4800    4.0                              0   \n",
       "...         ...    ...                            ...   \n",
       "13314  159.3235    6.0                              0   \n",
       "13315  320.7837    9.0                              0   \n",
       "13317  105.9989    4.0                              0   \n",
       "13318  435.6081    8.0                              0   \n",
       "13319   51.0950    2.0                              0   \n",
       "\n",
       "       location_1st Block Jayanagar  location_1st Phase JP Nagar  \\\n",
       "0                                 0                            0   \n",
       "1                                 0                            0   \n",
       "2                                 0                            0   \n",
       "3                                 0                            0   \n",
       "4                                 0                            0   \n",
       "...                             ...                          ...   \n",
       "13314                             0                            0   \n",
       "13315                             0                            0   \n",
       "13317                             0                            0   \n",
       "13318                             0                            0   \n",
       "13319                             0                            0   \n",
       "\n",
       "       location_2nd Phase Judicial Layout  location_2nd Stage Nagarbhavi  \\\n",
       "0                                       0                              0   \n",
       "1                                       0                              0   \n",
       "2                                       0                              0   \n",
       "3                                       0                              0   \n",
       "4                                       0                              0   \n",
       "...                                   ...                            ...   \n",
       "13314                                   0                              0   \n",
       "13315                                   0                              0   \n",
       "13317                                   0                              0   \n",
       "13318                                   0                              0   \n",
       "13319                                   0                              0   \n",
       "\n",
       "       location_5th Block Hbr Layout  location_5th Phase JP Nagar  \\\n",
       "0                                  0                            0   \n",
       "1                                  0                            0   \n",
       "2                                  0                            0   \n",
       "3                                  0                            0   \n",
       "4                                  0                            0   \n",
       "...                              ...                          ...   \n",
       "13314                              0                            0   \n",
       "13315                              0                            0   \n",
       "13317                              0                            0   \n",
       "13318                              0                            0   \n",
       "13319                              0                            0   \n",
       "\n",
       "       location_6th Phase JP Nagar  ...  location_Vijayanagar  \\\n",
       "0                                0  ...                     0   \n",
       "1                                0  ...                     0   \n",
       "2                                0  ...                     0   \n",
       "3                                0  ...                     0   \n",
       "4                                0  ...                     0   \n",
       "...                            ...  ...                   ...   \n",
       "13314                            0  ...                     0   \n",
       "13315                            0  ...                     0   \n",
       "13317                            0  ...                     0   \n",
       "13318                            0  ...                     0   \n",
       "13319                            0  ...                     0   \n",
       "\n",
       "       location_Vishveshwarya Layout  location_Vishwapriya Layout  \\\n",
       "0                                  0                            0   \n",
       "1                                  0                            0   \n",
       "2                                  0                            0   \n",
       "3                                  0                            0   \n",
       "4                                  0                            0   \n",
       "...                              ...                          ...   \n",
       "13314                              0                            0   \n",
       "13315                              0                            0   \n",
       "13317                              0                            0   \n",
       "13318                              0                            0   \n",
       "13319                              0                            0   \n",
       "\n",
       "       location_Vittasandra  location_Whitefield  location_Yelachenahalli  \\\n",
       "0                         0                    0                        0   \n",
       "1                         0                    0                        0   \n",
       "2                         0                    0                        0   \n",
       "3                         0                    0                        0   \n",
       "4                         0                    0                        0   \n",
       "...                     ...                  ...                      ...   \n",
       "13314                     0                    0                        0   \n",
       "13315                     0                    1                        0   \n",
       "13317                     0                    0                        0   \n",
       "13318                     0                    0                        0   \n",
       "13319                     0                    0                        0   \n",
       "\n",
       "       location_Yelahanka  location_Yelahanka New Town  location_Yelenahalli  \\\n",
       "0                       0                            0                     0   \n",
       "1                       0                            0                     0   \n",
       "2                       0                            0                     0   \n",
       "3                       0                            0                     0   \n",
       "4                       0                            0                     0   \n",
       "...                   ...                          ...                   ...   \n",
       "13314                   0                            0                     0   \n",
       "13315                   0                            0                     0   \n",
       "13317                   0                            0                     0   \n",
       "13318                   0                            0                     0   \n",
       "13319                   0                            0                     0   \n",
       "\n",
       "       location_Yeshwanthpur  \n",
       "0                          0  \n",
       "1                          0  \n",
       "2                          0  \n",
       "3                          0  \n",
       "4                          0  \n",
       "...                      ...  \n",
       "13314                      0  \n",
       "13315                      0  \n",
       "13317                      0  \n",
       "13318                      0  \n",
       "13319                      0  \n",
       "\n",
       "[10060 rows x 240 columns]"
      ]
     },
     "execution_count": 38,
     "metadata": {},
     "output_type": "execute_result"
    }
   ],
   "source": [
    "X = pd.get_dummies( house_data[['location', 'area_m2', 'rooms']] )\n",
    "X"
   ]
  },
  {
   "cell_type": "code",
   "execution_count": 39,
   "id": "ba3cccc1-9ebe-4df6-adeb-cf9cf85891c1",
   "metadata": {},
   "outputs": [
    {
     "data": {
      "text/plain": [
       "0         3907000.0\n",
       "1        12000000.0\n",
       "2         6200000.0\n",
       "3         9500000.0\n",
       "4         5100000.0\n",
       "            ...    \n",
       "13314    11200000.0\n",
       "13315    23100000.0\n",
       "13317     6000000.0\n",
       "13318    48800000.0\n",
       "13319     1700000.0\n",
       "Name: total_price, Length: 10060, dtype: float64"
      ]
     },
     "execution_count": 39,
     "metadata": {},
     "output_type": "execute_result"
    }
   ],
   "source": [
    "y = house_data['total_price']\n",
    "y"
   ]
  },
  {
   "attachments": {},
   "cell_type": "markdown",
   "id": "ca4a7a71-10d6-4ac2-b2de-2c6899273476",
   "metadata": {},
   "source": [
    "# Classification"
   ]
  },
  {
   "cell_type": "code",
   "execution_count": 47,
   "id": "295780ff-0b29-4021-9a3e-9d38fcae2222",
   "metadata": {},
   "outputs": [],
   "source": [
    "from sklearn.model_selection import cross_val_score\n",
    "from sklearn.linear_model import LinearRegression"
   ]
  },
  {
   "cell_type": "code",
   "execution_count": 48,
   "id": "f045f3c5-64cd-4556-96a8-6a881739d1e7",
   "metadata": {},
   "outputs": [],
   "source": [
    "model = LinearRegression()\n",
    "cv_scores = cross_val_score(model, X, y, cv=10)"
   ]
  },
  {
   "cell_type": "code",
   "execution_count": 54,
   "id": "ce04838e-785b-48e6-bba8-f95b97d02109",
   "metadata": {},
   "outputs": [
    {
     "data": {
      "text/plain": [
       "(0.6681393809871992, 0.7190759817591577)"
      ]
     },
     "execution_count": 54,
     "metadata": {},
     "output_type": "execute_result"
    }
   ],
   "source": [
    "# calculate 95% confidence interval by using t distribution\n",
    "import scipy.stats as st\n",
    "st.t.interval(alpha=0.95,\n",
    "              df=len(cv_scores)-1,\n",
    "              loc=np.mean(cv_scores),\n",
    "              scale=st.sem(cv_scores))"
   ]
  },
  {
   "cell_type": "code",
   "execution_count": 55,
   "id": "45f89c7e-23b7-4000-94de-495eff0a5251",
   "metadata": {},
   "outputs": [
    {
     "data": {
      "text/plain": [
       "0.6936076813731784"
      ]
     },
     "execution_count": 55,
     "metadata": {},
     "output_type": "execute_result"
    }
   ],
   "source": [
    "cv_scores.mean()"
   ]
  },
  {
   "cell_type": "code",
   "execution_count": null,
   "id": "49192438-7d9e-404b-8a24-c792f2a3cb2d",
   "metadata": {},
   "outputs": [],
   "source": []
  }
 ],
 "metadata": {
  "kernelspec": {
   "display_name": "Python 3 (ipykernel)",
   "language": "python",
   "name": "python3"
  },
  "language_info": {
   "codemirror_mode": {
    "name": "ipython",
    "version": 3
   },
   "file_extension": ".py",
   "mimetype": "text/x-python",
   "name": "python",
   "nbconvert_exporter": "python",
   "pygments_lexer": "ipython3",
   "version": "3.9.12"
  }
 },
 "nbformat": 4,
 "nbformat_minor": 5
}
